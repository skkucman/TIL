{
 "cells": [
  {
   "cell_type": "code",
   "execution_count": 1,
   "metadata": {},
   "outputs": [],
   "source": [
    "import pandas as pd\n",
    "import numpy as np\n",
    "\n",
    "pd.options.display.max_columns=None\n",
    "pd.options.display.max_rows=None"
   ]
  },
  {
   "cell_type": "code",
   "execution_count": 2,
   "metadata": {},
   "outputs": [],
   "source": [
    "path = 'https://archive.ics.uci.edu/ml/machine-learning-databases/statlog/german/german.data'\n",
    "dataset = pd.read_csv(path, delimiter=' ', header=None)"
   ]
  },
  {
   "cell_type": "code",
   "execution_count": 3,
   "metadata": {},
   "outputs": [
    {
     "data": {
      "text/plain": [
       "(1000, 21)"
      ]
     },
     "execution_count": 3,
     "metadata": {},
     "output_type": "execute_result"
    }
   ],
   "source": [
    "dataset.shape"
   ]
  },
  {
   "cell_type": "code",
   "execution_count": 4,
   "metadata": {},
   "outputs": [
    {
     "data": {
      "text/html": [
       "<div>\n",
       "<style scoped>\n",
       "    .dataframe tbody tr th:only-of-type {\n",
       "        vertical-align: middle;\n",
       "    }\n",
       "\n",
       "    .dataframe tbody tr th {\n",
       "        vertical-align: top;\n",
       "    }\n",
       "\n",
       "    .dataframe thead th {\n",
       "        text-align: right;\n",
       "    }\n",
       "</style>\n",
       "<table border=\"1\" class=\"dataframe\">\n",
       "  <thead>\n",
       "    <tr style=\"text-align: right;\">\n",
       "      <th></th>\n",
       "      <th>0</th>\n",
       "      <th>1</th>\n",
       "      <th>2</th>\n",
       "      <th>3</th>\n",
       "      <th>4</th>\n",
       "      <th>5</th>\n",
       "      <th>6</th>\n",
       "      <th>7</th>\n",
       "      <th>8</th>\n",
       "      <th>9</th>\n",
       "      <th>10</th>\n",
       "      <th>11</th>\n",
       "      <th>12</th>\n",
       "      <th>13</th>\n",
       "      <th>14</th>\n",
       "      <th>15</th>\n",
       "      <th>16</th>\n",
       "      <th>17</th>\n",
       "      <th>18</th>\n",
       "      <th>19</th>\n",
       "      <th>20</th>\n",
       "    </tr>\n",
       "  </thead>\n",
       "  <tbody>\n",
       "    <tr>\n",
       "      <th>0</th>\n",
       "      <td>A11</td>\n",
       "      <td>6</td>\n",
       "      <td>A34</td>\n",
       "      <td>A43</td>\n",
       "      <td>1169</td>\n",
       "      <td>A65</td>\n",
       "      <td>A75</td>\n",
       "      <td>4</td>\n",
       "      <td>A93</td>\n",
       "      <td>A101</td>\n",
       "      <td>4</td>\n",
       "      <td>A121</td>\n",
       "      <td>67</td>\n",
       "      <td>A143</td>\n",
       "      <td>A152</td>\n",
       "      <td>2</td>\n",
       "      <td>A173</td>\n",
       "      <td>1</td>\n",
       "      <td>A192</td>\n",
       "      <td>A201</td>\n",
       "      <td>1</td>\n",
       "    </tr>\n",
       "    <tr>\n",
       "      <th>1</th>\n",
       "      <td>A12</td>\n",
       "      <td>48</td>\n",
       "      <td>A32</td>\n",
       "      <td>A43</td>\n",
       "      <td>5951</td>\n",
       "      <td>A61</td>\n",
       "      <td>A73</td>\n",
       "      <td>2</td>\n",
       "      <td>A92</td>\n",
       "      <td>A101</td>\n",
       "      <td>2</td>\n",
       "      <td>A121</td>\n",
       "      <td>22</td>\n",
       "      <td>A143</td>\n",
       "      <td>A152</td>\n",
       "      <td>1</td>\n",
       "      <td>A173</td>\n",
       "      <td>1</td>\n",
       "      <td>A191</td>\n",
       "      <td>A201</td>\n",
       "      <td>2</td>\n",
       "    </tr>\n",
       "    <tr>\n",
       "      <th>2</th>\n",
       "      <td>A14</td>\n",
       "      <td>12</td>\n",
       "      <td>A34</td>\n",
       "      <td>A46</td>\n",
       "      <td>2096</td>\n",
       "      <td>A61</td>\n",
       "      <td>A74</td>\n",
       "      <td>2</td>\n",
       "      <td>A93</td>\n",
       "      <td>A101</td>\n",
       "      <td>3</td>\n",
       "      <td>A121</td>\n",
       "      <td>49</td>\n",
       "      <td>A143</td>\n",
       "      <td>A152</td>\n",
       "      <td>1</td>\n",
       "      <td>A172</td>\n",
       "      <td>2</td>\n",
       "      <td>A191</td>\n",
       "      <td>A201</td>\n",
       "      <td>1</td>\n",
       "    </tr>\n",
       "    <tr>\n",
       "      <th>3</th>\n",
       "      <td>A11</td>\n",
       "      <td>42</td>\n",
       "      <td>A32</td>\n",
       "      <td>A42</td>\n",
       "      <td>7882</td>\n",
       "      <td>A61</td>\n",
       "      <td>A74</td>\n",
       "      <td>2</td>\n",
       "      <td>A93</td>\n",
       "      <td>A103</td>\n",
       "      <td>4</td>\n",
       "      <td>A122</td>\n",
       "      <td>45</td>\n",
       "      <td>A143</td>\n",
       "      <td>A153</td>\n",
       "      <td>1</td>\n",
       "      <td>A173</td>\n",
       "      <td>2</td>\n",
       "      <td>A191</td>\n",
       "      <td>A201</td>\n",
       "      <td>1</td>\n",
       "    </tr>\n",
       "    <tr>\n",
       "      <th>4</th>\n",
       "      <td>A11</td>\n",
       "      <td>24</td>\n",
       "      <td>A33</td>\n",
       "      <td>A40</td>\n",
       "      <td>4870</td>\n",
       "      <td>A61</td>\n",
       "      <td>A73</td>\n",
       "      <td>3</td>\n",
       "      <td>A93</td>\n",
       "      <td>A101</td>\n",
       "      <td>4</td>\n",
       "      <td>A124</td>\n",
       "      <td>53</td>\n",
       "      <td>A143</td>\n",
       "      <td>A153</td>\n",
       "      <td>2</td>\n",
       "      <td>A173</td>\n",
       "      <td>2</td>\n",
       "      <td>A191</td>\n",
       "      <td>A201</td>\n",
       "      <td>2</td>\n",
       "    </tr>\n",
       "  </tbody>\n",
       "</table>\n",
       "</div>"
      ],
      "text/plain": [
       "    0   1    2    3     4    5    6   7    8     9   10    11  12    13    14  \\\n",
       "0  A11   6  A34  A43  1169  A65  A75   4  A93  A101   4  A121  67  A143  A152   \n",
       "1  A12  48  A32  A43  5951  A61  A73   2  A92  A101   2  A121  22  A143  A152   \n",
       "2  A14  12  A34  A46  2096  A61  A74   2  A93  A101   3  A121  49  A143  A152   \n",
       "3  A11  42  A32  A42  7882  A61  A74   2  A93  A103   4  A122  45  A143  A153   \n",
       "4  A11  24  A33  A40  4870  A61  A73   3  A93  A101   4  A124  53  A143  A153   \n",
       "\n",
       "   15    16  17    18    19  20  \n",
       "0   2  A173   1  A192  A201   1  \n",
       "1   1  A173   1  A191  A201   2  \n",
       "2   1  A172   2  A191  A201   1  \n",
       "3   1  A173   2  A191  A201   1  \n",
       "4   2  A173   2  A191  A201   2  "
      ]
     },
     "execution_count": 4,
     "metadata": {},
     "output_type": "execute_result"
    }
   ],
   "source": [
    "dataset.head()"
   ]
  },
  {
   "cell_type": "code",
   "execution_count": 5,
   "metadata": {},
   "outputs": [],
   "source": [
    "COL = [\n",
    "    'Status_of_existing_checking_account', \n",
    "    'Duration_in_month',\n",
    "    'Credit_history',\n",
    "    'Purpose', \n",
    "    'Credit_amount', \n",
    "    'Savings_account_bonds', \n",
    "    'Present_employment_since', \n",
    "    'Installment_rate_in_percentage_of_disposable_income',\n",
    "    'Personal_status_and_sex',\n",
    "    'Other_debtors_guarantors',\n",
    "    'Present_residence_since', \n",
    "    'Property', \n",
    "    'Age_in_years', \n",
    "    'Other_installment_plans', \n",
    "    'Housing',\n",
    "    'Number_of_existing_credits_at_this_bank',\n",
    "    'Job',\n",
    "    'Number_of_people_being_liable_to_provide_maintenance_for',\n",
    "    'Telephone',\n",
    "    'foreign_worker',\n",
    "    'Target'\n",
    "]"
   ]
  },
  {
   "cell_type": "code",
   "execution_count": 6,
   "metadata": {},
   "outputs": [],
   "source": [
    "dataset.columns = COL"
   ]
  },
  {
   "cell_type": "code",
   "execution_count": 7,
   "metadata": {},
   "outputs": [
    {
     "data": {
      "text/html": [
       "<div>\n",
       "<style scoped>\n",
       "    .dataframe tbody tr th:only-of-type {\n",
       "        vertical-align: middle;\n",
       "    }\n",
       "\n",
       "    .dataframe tbody tr th {\n",
       "        vertical-align: top;\n",
       "    }\n",
       "\n",
       "    .dataframe thead th {\n",
       "        text-align: right;\n",
       "    }\n",
       "</style>\n",
       "<table border=\"1\" class=\"dataframe\">\n",
       "  <thead>\n",
       "    <tr style=\"text-align: right;\">\n",
       "      <th></th>\n",
       "      <th>Status_of_existing_checking_account</th>\n",
       "      <th>Duration_in_month</th>\n",
       "      <th>Credit_history</th>\n",
       "      <th>Purpose</th>\n",
       "      <th>Credit_amount</th>\n",
       "      <th>Savings_account_bonds</th>\n",
       "      <th>Present_employment_since</th>\n",
       "      <th>Installment_rate_in_percentage_of_disposable_income</th>\n",
       "      <th>Personal_status_and_sex</th>\n",
       "      <th>Other_debtors_guarantors</th>\n",
       "      <th>Present_residence_since</th>\n",
       "      <th>Property</th>\n",
       "      <th>Age_in_years</th>\n",
       "      <th>Other_installment_plans</th>\n",
       "      <th>Housing</th>\n",
       "      <th>Number_of_existing_credits_at_this_bank</th>\n",
       "      <th>Job</th>\n",
       "      <th>Number_of_people_being_liable_to_provide_maintenance_for</th>\n",
       "      <th>Telephone</th>\n",
       "      <th>foreign_worker</th>\n",
       "      <th>Target</th>\n",
       "    </tr>\n",
       "  </thead>\n",
       "  <tbody>\n",
       "    <tr>\n",
       "      <th>0</th>\n",
       "      <td>A11</td>\n",
       "      <td>6</td>\n",
       "      <td>A34</td>\n",
       "      <td>A43</td>\n",
       "      <td>1169</td>\n",
       "      <td>A65</td>\n",
       "      <td>A75</td>\n",
       "      <td>4</td>\n",
       "      <td>A93</td>\n",
       "      <td>A101</td>\n",
       "      <td>4</td>\n",
       "      <td>A121</td>\n",
       "      <td>67</td>\n",
       "      <td>A143</td>\n",
       "      <td>A152</td>\n",
       "      <td>2</td>\n",
       "      <td>A173</td>\n",
       "      <td>1</td>\n",
       "      <td>A192</td>\n",
       "      <td>A201</td>\n",
       "      <td>1</td>\n",
       "    </tr>\n",
       "    <tr>\n",
       "      <th>1</th>\n",
       "      <td>A12</td>\n",
       "      <td>48</td>\n",
       "      <td>A32</td>\n",
       "      <td>A43</td>\n",
       "      <td>5951</td>\n",
       "      <td>A61</td>\n",
       "      <td>A73</td>\n",
       "      <td>2</td>\n",
       "      <td>A92</td>\n",
       "      <td>A101</td>\n",
       "      <td>2</td>\n",
       "      <td>A121</td>\n",
       "      <td>22</td>\n",
       "      <td>A143</td>\n",
       "      <td>A152</td>\n",
       "      <td>1</td>\n",
       "      <td>A173</td>\n",
       "      <td>1</td>\n",
       "      <td>A191</td>\n",
       "      <td>A201</td>\n",
       "      <td>2</td>\n",
       "    </tr>\n",
       "    <tr>\n",
       "      <th>2</th>\n",
       "      <td>A14</td>\n",
       "      <td>12</td>\n",
       "      <td>A34</td>\n",
       "      <td>A46</td>\n",
       "      <td>2096</td>\n",
       "      <td>A61</td>\n",
       "      <td>A74</td>\n",
       "      <td>2</td>\n",
       "      <td>A93</td>\n",
       "      <td>A101</td>\n",
       "      <td>3</td>\n",
       "      <td>A121</td>\n",
       "      <td>49</td>\n",
       "      <td>A143</td>\n",
       "      <td>A152</td>\n",
       "      <td>1</td>\n",
       "      <td>A172</td>\n",
       "      <td>2</td>\n",
       "      <td>A191</td>\n",
       "      <td>A201</td>\n",
       "      <td>1</td>\n",
       "    </tr>\n",
       "    <tr>\n",
       "      <th>3</th>\n",
       "      <td>A11</td>\n",
       "      <td>42</td>\n",
       "      <td>A32</td>\n",
       "      <td>A42</td>\n",
       "      <td>7882</td>\n",
       "      <td>A61</td>\n",
       "      <td>A74</td>\n",
       "      <td>2</td>\n",
       "      <td>A93</td>\n",
       "      <td>A103</td>\n",
       "      <td>4</td>\n",
       "      <td>A122</td>\n",
       "      <td>45</td>\n",
       "      <td>A143</td>\n",
       "      <td>A153</td>\n",
       "      <td>1</td>\n",
       "      <td>A173</td>\n",
       "      <td>2</td>\n",
       "      <td>A191</td>\n",
       "      <td>A201</td>\n",
       "      <td>1</td>\n",
       "    </tr>\n",
       "    <tr>\n",
       "      <th>4</th>\n",
       "      <td>A11</td>\n",
       "      <td>24</td>\n",
       "      <td>A33</td>\n",
       "      <td>A40</td>\n",
       "      <td>4870</td>\n",
       "      <td>A61</td>\n",
       "      <td>A73</td>\n",
       "      <td>3</td>\n",
       "      <td>A93</td>\n",
       "      <td>A101</td>\n",
       "      <td>4</td>\n",
       "      <td>A124</td>\n",
       "      <td>53</td>\n",
       "      <td>A143</td>\n",
       "      <td>A153</td>\n",
       "      <td>2</td>\n",
       "      <td>A173</td>\n",
       "      <td>2</td>\n",
       "      <td>A191</td>\n",
       "      <td>A201</td>\n",
       "      <td>2</td>\n",
       "    </tr>\n",
       "  </tbody>\n",
       "</table>\n",
       "</div>"
      ],
      "text/plain": [
       "  Status_of_existing_checking_account  Duration_in_month Credit_history  \\\n",
       "0                                 A11                  6            A34   \n",
       "1                                 A12                 48            A32   \n",
       "2                                 A14                 12            A34   \n",
       "3                                 A11                 42            A32   \n",
       "4                                 A11                 24            A33   \n",
       "\n",
       "  Purpose  Credit_amount Savings_account_bonds Present_employment_since  \\\n",
       "0     A43           1169                   A65                      A75   \n",
       "1     A43           5951                   A61                      A73   \n",
       "2     A46           2096                   A61                      A74   \n",
       "3     A42           7882                   A61                      A74   \n",
       "4     A40           4870                   A61                      A73   \n",
       "\n",
       "   Installment_rate_in_percentage_of_disposable_income  \\\n",
       "0                                                  4     \n",
       "1                                                  2     \n",
       "2                                                  2     \n",
       "3                                                  2     \n",
       "4                                                  3     \n",
       "\n",
       "  Personal_status_and_sex Other_debtors_guarantors  Present_residence_since  \\\n",
       "0                     A93                     A101                        4   \n",
       "1                     A92                     A101                        2   \n",
       "2                     A93                     A101                        3   \n",
       "3                     A93                     A103                        4   \n",
       "4                     A93                     A101                        4   \n",
       "\n",
       "  Property  Age_in_years Other_installment_plans Housing  \\\n",
       "0     A121            67                    A143    A152   \n",
       "1     A121            22                    A143    A152   \n",
       "2     A121            49                    A143    A152   \n",
       "3     A122            45                    A143    A153   \n",
       "4     A124            53                    A143    A153   \n",
       "\n",
       "   Number_of_existing_credits_at_this_bank   Job  \\\n",
       "0                                        2  A173   \n",
       "1                                        1  A173   \n",
       "2                                        1  A172   \n",
       "3                                        1  A173   \n",
       "4                                        2  A173   \n",
       "\n",
       "   Number_of_people_being_liable_to_provide_maintenance_for Telephone  \\\n",
       "0                                                  1             A192   \n",
       "1                                                  1             A191   \n",
       "2                                                  2             A191   \n",
       "3                                                  2             A191   \n",
       "4                                                  2             A191   \n",
       "\n",
       "  foreign_worker  Target  \n",
       "0           A201       1  \n",
       "1           A201       2  \n",
       "2           A201       1  \n",
       "3           A201       1  \n",
       "4           A201       2  "
      ]
     },
     "execution_count": 7,
     "metadata": {},
     "output_type": "execute_result"
    }
   ],
   "source": [
    "dataset.head()"
   ]
  },
  {
   "cell_type": "code",
   "execution_count": 8,
   "metadata": {},
   "outputs": [],
   "source": [
    "# Label을 1/2 -> 0/1로 변경\n",
    "dataset['Target'] = dataset['Target'] - 1"
   ]
  },
  {
   "cell_type": "markdown",
   "metadata": {},
   "source": [
    "## 1. Information Value (정보 가치)\n",
    "후진제거법 사용 이전에 변수 선택"
   ]
  },
  {
   "cell_type": "markdown",
   "metadata": {},
   "source": [
    "예제)\n",
    "0~50 dist of non-event = 197/3662\n",
    "     dist of event = 20/338\n",
    "\n",
    "WOE = ln(dist of Non-evnet/dist of event)"
   ]
  },
  {
   "cell_type": "code",
   "execution_count": 9,
   "metadata": {},
   "outputs": [],
   "source": [
    "max_bin = 10  # 전체 데이터의 예측력에 해를 가하지 않는 한에서 구간을 테스트하였습니다.\n",
    "def calc_iv(df, col, label, max_bin = max_bin):\n",
    "    \"\"\"IV helper function\"\"\"\n",
    "    bin_df = df[[col, label]].copy()\n",
    "    # Categorical column\n",
    "    if bin_df[col].dtype == 'object':\n",
    "        bin_df = bin_df.groupby(col)[label].agg(['count', 'sum'])\n",
    "    # Numerical column\n",
    "    else:\n",
    "        bin_df.loc[:, 'bins'] = pd.qcut(bin_df[col].rank(method='first'), max_bin)\n",
    "#         bin_df.loc[:, 'bins'] = pd.cut(bin_df[col], max_bin)\n",
    "        bin_df = bin_df.groupby('bins')[label].agg(['count', 'sum'])\n",
    "    \n",
    "    bin_df.columns = ['total', 'abuse']\n",
    "    bin_df['normal'] = bin_df['total'] - bin_df['abuse']\n",
    "    bin_df['normal_dist'] = bin_df['normal'] / sum(bin_df['normal'])\n",
    "    bin_df['abuse_dist'] = bin_df['abuse'] / sum(bin_df['abuse'])\n",
    "    bin_df['woe'] = np.log(bin_df['normal_dist'] / bin_df['abuse_dist'])\n",
    "    bin_df['iv'] = bin_df['woe'] * (bin_df['normal_dist'] - bin_df['abuse_dist'])\n",
    "    \n",
    "    bin_df.replace([np.inf, -np.inf], 0, inplace=True)\n",
    "    bin_df = bin_df[bin_df['total'] > 0]\n",
    "    iv_val = sum(filter(lambda x: x != float('inf'), bin_df['iv']))\n",
    "    \n",
    "    return bin_df, col, iv_val"
   ]
  },
  {
   "cell_type": "code",
   "execution_count": 10,
   "metadata": {},
   "outputs": [
    {
     "data": {
      "text/html": [
       "<div>\n",
       "<style scoped>\n",
       "    .dataframe tbody tr th:only-of-type {\n",
       "        vertical-align: middle;\n",
       "    }\n",
       "\n",
       "    .dataframe tbody tr th {\n",
       "        vertical-align: top;\n",
       "    }\n",
       "\n",
       "    .dataframe thead th {\n",
       "        text-align: right;\n",
       "    }\n",
       "</style>\n",
       "<table border=\"1\" class=\"dataframe\">\n",
       "  <thead>\n",
       "    <tr style=\"text-align: right;\">\n",
       "      <th></th>\n",
       "      <th>total</th>\n",
       "      <th>abuse</th>\n",
       "      <th>normal</th>\n",
       "      <th>normal_dist</th>\n",
       "      <th>abuse_dist</th>\n",
       "      <th>woe</th>\n",
       "      <th>iv</th>\n",
       "    </tr>\n",
       "    <tr>\n",
       "      <th>Credit_history</th>\n",
       "      <th></th>\n",
       "      <th></th>\n",
       "      <th></th>\n",
       "      <th></th>\n",
       "      <th></th>\n",
       "      <th></th>\n",
       "      <th></th>\n",
       "    </tr>\n",
       "  </thead>\n",
       "  <tbody>\n",
       "    <tr>\n",
       "      <th>A30</th>\n",
       "      <td>40</td>\n",
       "      <td>25</td>\n",
       "      <td>15</td>\n",
       "      <td>0.021429</td>\n",
       "      <td>0.083333</td>\n",
       "      <td>-1.358123</td>\n",
       "      <td>0.084074</td>\n",
       "    </tr>\n",
       "    <tr>\n",
       "      <th>A31</th>\n",
       "      <td>49</td>\n",
       "      <td>28</td>\n",
       "      <td>21</td>\n",
       "      <td>0.030000</td>\n",
       "      <td>0.093333</td>\n",
       "      <td>-1.134980</td>\n",
       "      <td>0.071882</td>\n",
       "    </tr>\n",
       "    <tr>\n",
       "      <th>A32</th>\n",
       "      <td>530</td>\n",
       "      <td>169</td>\n",
       "      <td>361</td>\n",
       "      <td>0.515714</td>\n",
       "      <td>0.563333</td>\n",
       "      <td>-0.088319</td>\n",
       "      <td>0.004206</td>\n",
       "    </tr>\n",
       "    <tr>\n",
       "      <th>A33</th>\n",
       "      <td>88</td>\n",
       "      <td>28</td>\n",
       "      <td>60</td>\n",
       "      <td>0.085714</td>\n",
       "      <td>0.093333</td>\n",
       "      <td>-0.085158</td>\n",
       "      <td>0.000649</td>\n",
       "    </tr>\n",
       "    <tr>\n",
       "      <th>A34</th>\n",
       "      <td>293</td>\n",
       "      <td>50</td>\n",
       "      <td>243</td>\n",
       "      <td>0.347143</td>\n",
       "      <td>0.166667</td>\n",
       "      <td>0.733741</td>\n",
       "      <td>0.132423</td>\n",
       "    </tr>\n",
       "  </tbody>\n",
       "</table>\n",
       "</div>"
      ],
      "text/plain": [
       "                total  abuse  normal  normal_dist  abuse_dist       woe  \\\n",
       "Credit_history                                                            \n",
       "A30                40     25      15     0.021429    0.083333 -1.358123   \n",
       "A31                49     28      21     0.030000    0.093333 -1.134980   \n",
       "A32               530    169     361     0.515714    0.563333 -0.088319   \n",
       "A33                88     28      60     0.085714    0.093333 -0.085158   \n",
       "A34               293     50     243     0.347143    0.166667  0.733741   \n",
       "\n",
       "                      iv  \n",
       "Credit_history            \n",
       "A30             0.084074  \n",
       "A31             0.071882  \n",
       "A32             0.004206  \n",
       "A33             0.000649  \n",
       "A34             0.132423  "
      ]
     },
     "execution_count": 10,
     "metadata": {},
     "output_type": "execute_result"
    }
   ],
   "source": [
    "ch_df, ch, ch_i_val = calc_iv(dataset,'Credit_history', 'Target')\n",
    "ch_df"
   ]
  },
  {
   "cell_type": "code",
   "execution_count": 11,
   "metadata": {},
   "outputs": [
    {
     "data": {
      "text/html": [
       "<div>\n",
       "<style scoped>\n",
       "    .dataframe tbody tr th:only-of-type {\n",
       "        vertical-align: middle;\n",
       "    }\n",
       "\n",
       "    .dataframe tbody tr th {\n",
       "        vertical-align: top;\n",
       "    }\n",
       "\n",
       "    .dataframe thead th {\n",
       "        text-align: right;\n",
       "    }\n",
       "</style>\n",
       "<table border=\"1\" class=\"dataframe\">\n",
       "  <thead>\n",
       "    <tr style=\"text-align: right;\">\n",
       "      <th></th>\n",
       "      <th>total</th>\n",
       "      <th>abuse</th>\n",
       "      <th>normal</th>\n",
       "      <th>normal_dist</th>\n",
       "      <th>abuse_dist</th>\n",
       "      <th>woe</th>\n",
       "      <th>iv</th>\n",
       "    </tr>\n",
       "    <tr>\n",
       "      <th>bins</th>\n",
       "      <th></th>\n",
       "      <th></th>\n",
       "      <th></th>\n",
       "      <th></th>\n",
       "      <th></th>\n",
       "      <th></th>\n",
       "      <th></th>\n",
       "    </tr>\n",
       "  </thead>\n",
       "  <tbody>\n",
       "    <tr>\n",
       "      <th>(0.999, 100.9]</th>\n",
       "      <td>100</td>\n",
       "      <td>11</td>\n",
       "      <td>89</td>\n",
       "      <td>0.127143</td>\n",
       "      <td>0.036667</td>\n",
       "      <td>1.243443</td>\n",
       "      <td>0.112502</td>\n",
       "    </tr>\n",
       "    <tr>\n",
       "      <th>(100.9, 200.8]</th>\n",
       "      <td>100</td>\n",
       "      <td>20</td>\n",
       "      <td>80</td>\n",
       "      <td>0.114286</td>\n",
       "      <td>0.066667</td>\n",
       "      <td>0.538997</td>\n",
       "      <td>0.025667</td>\n",
       "    </tr>\n",
       "    <tr>\n",
       "      <th>(200.8, 300.7]</th>\n",
       "      <td>100</td>\n",
       "      <td>27</td>\n",
       "      <td>73</td>\n",
       "      <td>0.104286</td>\n",
       "      <td>0.090000</td>\n",
       "      <td>0.147325</td>\n",
       "      <td>0.002105</td>\n",
       "    </tr>\n",
       "    <tr>\n",
       "      <th>(300.7, 400.6]</th>\n",
       "      <td>100</td>\n",
       "      <td>25</td>\n",
       "      <td>75</td>\n",
       "      <td>0.107143</td>\n",
       "      <td>0.083333</td>\n",
       "      <td>0.251314</td>\n",
       "      <td>0.005984</td>\n",
       "    </tr>\n",
       "    <tr>\n",
       "      <th>(400.6, 500.5]</th>\n",
       "      <td>100</td>\n",
       "      <td>26</td>\n",
       "      <td>74</td>\n",
       "      <td>0.105714</td>\n",
       "      <td>0.086667</td>\n",
       "      <td>0.198671</td>\n",
       "      <td>0.003784</td>\n",
       "    </tr>\n",
       "    <tr>\n",
       "      <th>(500.5, 600.4]</th>\n",
       "      <td>100</td>\n",
       "      <td>38</td>\n",
       "      <td>62</td>\n",
       "      <td>0.088571</td>\n",
       "      <td>0.126667</td>\n",
       "      <td>-0.357750</td>\n",
       "      <td>0.013629</td>\n",
       "    </tr>\n",
       "    <tr>\n",
       "      <th>(600.4, 700.3]</th>\n",
       "      <td>100</td>\n",
       "      <td>32</td>\n",
       "      <td>68</td>\n",
       "      <td>0.097143</td>\n",
       "      <td>0.106667</td>\n",
       "      <td>-0.093526</td>\n",
       "      <td>0.000891</td>\n",
       "    </tr>\n",
       "    <tr>\n",
       "      <th>(700.3, 800.2]</th>\n",
       "      <td>100</td>\n",
       "      <td>31</td>\n",
       "      <td>69</td>\n",
       "      <td>0.098571</td>\n",
       "      <td>0.103333</td>\n",
       "      <td>-0.047179</td>\n",
       "      <td>0.000225</td>\n",
       "    </tr>\n",
       "    <tr>\n",
       "      <th>(800.2, 900.1]</th>\n",
       "      <td>100</td>\n",
       "      <td>42</td>\n",
       "      <td>58</td>\n",
       "      <td>0.082857</td>\n",
       "      <td>0.140000</td>\n",
       "      <td>-0.524524</td>\n",
       "      <td>0.029973</td>\n",
       "    </tr>\n",
       "    <tr>\n",
       "      <th>(900.1, 1000.0]</th>\n",
       "      <td>100</td>\n",
       "      <td>48</td>\n",
       "      <td>52</td>\n",
       "      <td>0.074286</td>\n",
       "      <td>0.160000</td>\n",
       "      <td>-0.767255</td>\n",
       "      <td>0.065765</td>\n",
       "    </tr>\n",
       "  </tbody>\n",
       "</table>\n",
       "</div>"
      ],
      "text/plain": [
       "                 total  abuse  normal  normal_dist  abuse_dist       woe  \\\n",
       "bins                                                                       \n",
       "(0.999, 100.9]     100     11      89     0.127143    0.036667  1.243443   \n",
       "(100.9, 200.8]     100     20      80     0.114286    0.066667  0.538997   \n",
       "(200.8, 300.7]     100     27      73     0.104286    0.090000  0.147325   \n",
       "(300.7, 400.6]     100     25      75     0.107143    0.083333  0.251314   \n",
       "(400.6, 500.5]     100     26      74     0.105714    0.086667  0.198671   \n",
       "(500.5, 600.4]     100     38      62     0.088571    0.126667 -0.357750   \n",
       "(600.4, 700.3]     100     32      68     0.097143    0.106667 -0.093526   \n",
       "(700.3, 800.2]     100     31      69     0.098571    0.103333 -0.047179   \n",
       "(800.2, 900.1]     100     42      58     0.082857    0.140000 -0.524524   \n",
       "(900.1, 1000.0]    100     48      52     0.074286    0.160000 -0.767255   \n",
       "\n",
       "                       iv  \n",
       "bins                       \n",
       "(0.999, 100.9]   0.112502  \n",
       "(100.9, 200.8]   0.025667  \n",
       "(200.8, 300.7]   0.002105  \n",
       "(300.7, 400.6]   0.005984  \n",
       "(400.6, 500.5]   0.003784  \n",
       "(500.5, 600.4]   0.013629  \n",
       "(600.4, 700.3]   0.000891  \n",
       "(700.3, 800.2]   0.000225  \n",
       "(800.2, 900.1]   0.029973  \n",
       "(900.1, 1000.0]  0.065765  "
      ]
     },
     "execution_count": 11,
     "metadata": {},
     "output_type": "execute_result"
    }
   ],
   "source": [
    "dim_df, dim, dim_i_val = calc_iv(dataset,'Duration_in_month', 'Target')\n",
    "dim_df"
   ]
  },
  {
   "cell_type": "code",
   "execution_count": 12,
   "metadata": {},
   "outputs": [
    {
     "data": {
      "text/plain": [
       "0.2605225223321392"
      ]
     },
     "execution_count": 12,
     "metadata": {},
     "output_type": "execute_result"
    }
   ],
   "source": [
    "# 높은 예측 능력\n",
    "dim_i_val"
   ]
  },
  {
   "cell_type": "code",
   "execution_count": 13,
   "metadata": {},
   "outputs": [],
   "source": [
    "# 함수를 만들어서 전체 iv를 살펴보자\n",
    "col_iv = {}\n",
    "for col in [idx for idx in dataset.columns.tolist()]:\n",
    "    if col == 'Target':\n",
    "        continue\n",
    "    _, col, iv = calc_iv(dataset, col, 'Target')\n",
    "    col_iv[col] = iv"
   ]
  },
  {
   "cell_type": "code",
   "execution_count": 14,
   "metadata": {},
   "outputs": [
    {
     "data": {
      "text/plain": [
       "{'Status_of_existing_checking_account': 0.6660115033513336,\n",
       " 'Duration_in_month': 0.2605225223321392,\n",
       " 'Credit_history': 0.2932335473908263,\n",
       " 'Purpose': 0.16919506567307832,\n",
       " 'Credit_amount': 0.11342803024552867,\n",
       " 'Savings_account_bonds': 0.19600955690422672,\n",
       " 'Present_employment_since': 0.086433631026641,\n",
       " 'Installment_rate_in_percentage_of_disposable_income': 0.061554683786294126,\n",
       " 'Personal_status_and_sex': 0.04467067763379073,\n",
       " 'Other_debtors_guarantors': 0.032019322019485055,\n",
       " 'Present_residence_since': 0.04874371881018562,\n",
       " 'Property': 0.11263826240979674,\n",
       " 'Age_in_years': 0.10267245670259074,\n",
       " 'Other_installment_plans': 0.057614541955647885,\n",
       " 'Housing': 0.08329343361549926,\n",
       " 'Number_of_existing_credits_at_this_bank': 0.09779114631307396,\n",
       " 'Job': 0.008762765707428294,\n",
       " 'Number_of_people_being_liable_to_provide_maintenance_for': 0.03408883520785682,\n",
       " 'Telephone': 0.0063776050286746735,\n",
       " 'foreign_worker': 0.04387741201028899}"
      ]
     },
     "execution_count": 14,
     "metadata": {},
     "output_type": "execute_result"
    }
   ],
   "source": [
    "col_iv"
   ]
  },
  {
   "cell_type": "code",
   "execution_count": 15,
   "metadata": {},
   "outputs": [
    {
     "data": {
      "text/plain": [
       "[('Status_of_existing_checking_account', 0.6660115033513336),\n",
       " ('Credit_history', 0.2932335473908263),\n",
       " ('Duration_in_month', 0.2605225223321392),\n",
       " ('Savings_account_bonds', 0.19600955690422672),\n",
       " ('Purpose', 0.16919506567307832),\n",
       " ('Credit_amount', 0.11342803024552867),\n",
       " ('Property', 0.11263826240979674),\n",
       " ('Age_in_years', 0.10267245670259074),\n",
       " ('Number_of_existing_credits_at_this_bank', 0.09779114631307396),\n",
       " ('Present_employment_since', 0.086433631026641),\n",
       " ('Housing', 0.08329343361549926),\n",
       " ('Installment_rate_in_percentage_of_disposable_income', 0.061554683786294126),\n",
       " ('Other_installment_plans', 0.057614541955647885),\n",
       " ('Present_residence_since', 0.04874371881018562),\n",
       " ('Personal_status_and_sex', 0.04467067763379073),\n",
       " ('foreign_worker', 0.04387741201028899),\n",
       " ('Number_of_people_being_liable_to_provide_maintenance_for',\n",
       "  0.03408883520785682),\n",
       " ('Other_debtors_guarantors', 0.032019322019485055),\n",
       " ('Job', 0.008762765707428294),\n",
       " ('Telephone', 0.0063776050286746735)]"
      ]
     },
     "metadata": {},
     "output_type": "display_data"
    }
   ],
   "source": [
    "import operator\n",
    "candidates = sorted(col_iv.items(), key=operator.itemgetter(1), reverse=True)\n",
    "display(candidates)"
   ]
  },
  {
   "cell_type": "code",
   "execution_count": 16,
   "metadata": {},
   "outputs": [
    {
     "data": {
      "text/plain": [
       "15"
      ]
     },
     "metadata": {},
     "output_type": "display_data"
    },
    {
     "data": {
      "text/plain": [
       "['Age_in_years',\n",
       " 'Credit_amount',\n",
       " 'Credit_history',\n",
       " 'Duration_in_month',\n",
       " 'Housing',\n",
       " 'Installment_rate_in_percentage_of_disposable_income',\n",
       " 'Number_of_existing_credits_at_this_bank',\n",
       " 'Other_installment_plans',\n",
       " 'Personal_status_and_sex',\n",
       " 'Present_employment_since',\n",
       " 'Present_residence_since',\n",
       " 'Property',\n",
       " 'Purpose',\n",
       " 'Savings_account_bonds',\n",
       " 'Status_of_existing_checking_account']"
      ]
     },
     "metadata": {},
     "output_type": "display_data"
    }
   ],
   "source": [
    "# 분석하려는 feature의 갯수와 예측력의 trade-off를 조정하였습니다.\n",
    "iv_cols = [key for key, iv in candidates if iv >= 0.044]\n",
    "display(len(iv_cols))\n",
    "display(sorted(iv_cols))"
   ]
  },
  {
   "cell_type": "code",
   "execution_count": 17,
   "metadata": {},
   "outputs": [],
   "source": [
    "# 상수로 설정합니다.\n",
    "IV_COL = iv_cols[:]"
   ]
  },
  {
   "cell_type": "code",
   "execution_count": 18,
   "metadata": {},
   "outputs": [],
   "source": [
    "# Category column들은 one hot vectore로 변환합니다.\n",
    "cate_features = {}\n",
    "num_fetures = []\n",
    "for col in IV_COL:\n",
    "    if dataset[col].dtype == 'object':\n",
    "        cate_features[col] = pd.get_dummies(dataset[col], prefix=col, drop_first=True)\n",
    "    else:\n",
    "        num_fetures.append(col)"
   ]
  },
  {
   "cell_type": "code",
   "execution_count": 19,
   "metadata": {},
   "outputs": [
    {
     "data": {
      "text/plain": [
       "dict_keys(['Status_of_existing_checking_account', 'Credit_history', 'Savings_account_bonds', 'Purpose', 'Property', 'Present_employment_since', 'Housing', 'Other_installment_plans', 'Personal_status_and_sex'])"
      ]
     },
     "execution_count": 19,
     "metadata": {},
     "output_type": "execute_result"
    }
   ],
   "source": [
    "cate_features.keys()"
   ]
  },
  {
   "cell_type": "code",
   "execution_count": 20,
   "metadata": {},
   "outputs": [
    {
     "data": {
      "text/html": [
       "<div>\n",
       "<style scoped>\n",
       "    .dataframe tbody tr th:only-of-type {\n",
       "        vertical-align: middle;\n",
       "    }\n",
       "\n",
       "    .dataframe tbody tr th {\n",
       "        vertical-align: top;\n",
       "    }\n",
       "\n",
       "    .dataframe thead th {\n",
       "        text-align: right;\n",
       "    }\n",
       "</style>\n",
       "<table border=\"1\" class=\"dataframe\">\n",
       "  <thead>\n",
       "    <tr style=\"text-align: right;\">\n",
       "      <th></th>\n",
       "      <th>Status_of_existing_checking_account_A12</th>\n",
       "      <th>Status_of_existing_checking_account_A13</th>\n",
       "      <th>Status_of_existing_checking_account_A14</th>\n",
       "    </tr>\n",
       "  </thead>\n",
       "  <tbody>\n",
       "    <tr>\n",
       "      <th>0</th>\n",
       "      <td>0</td>\n",
       "      <td>0</td>\n",
       "      <td>0</td>\n",
       "    </tr>\n",
       "    <tr>\n",
       "      <th>1</th>\n",
       "      <td>1</td>\n",
       "      <td>0</td>\n",
       "      <td>0</td>\n",
       "    </tr>\n",
       "    <tr>\n",
       "      <th>2</th>\n",
       "      <td>0</td>\n",
       "      <td>0</td>\n",
       "      <td>1</td>\n",
       "    </tr>\n",
       "    <tr>\n",
       "      <th>3</th>\n",
       "      <td>0</td>\n",
       "      <td>0</td>\n",
       "      <td>0</td>\n",
       "    </tr>\n",
       "    <tr>\n",
       "      <th>4</th>\n",
       "      <td>0</td>\n",
       "      <td>0</td>\n",
       "      <td>0</td>\n",
       "    </tr>\n",
       "  </tbody>\n",
       "</table>\n",
       "</div>"
      ],
      "text/plain": [
       "   Status_of_existing_checking_account_A12  \\\n",
       "0                                        0   \n",
       "1                                        1   \n",
       "2                                        0   \n",
       "3                                        0   \n",
       "4                                        0   \n",
       "\n",
       "   Status_of_existing_checking_account_A13  \\\n",
       "0                                        0   \n",
       "1                                        0   \n",
       "2                                        0   \n",
       "3                                        0   \n",
       "4                                        0   \n",
       "\n",
       "   Status_of_existing_checking_account_A14  \n",
       "0                                        0  \n",
       "1                                        0  \n",
       "2                                        1  \n",
       "3                                        0  \n",
       "4                                        0  "
      ]
     },
     "execution_count": 20,
     "metadata": {},
     "output_type": "execute_result"
    }
   ],
   "source": [
    "cate_features['Status_of_existing_checking_account'].head()"
   ]
  },
  {
   "cell_type": "code",
   "execution_count": 21,
   "metadata": {},
   "outputs": [],
   "source": [
    "removed_features = []"
   ]
  },
  {
   "cell_type": "code",
   "execution_count": 22,
   "metadata": {},
   "outputs": [],
   "source": [
    "for col, dummies in cate_features.items():\n",
    "    dropped_col = dummies.columns[-1]\n",
    "    removed_features.append(dropped_col)\n",
    "    cate_features[col] = dummies.drop(dropped_col, axis=1)"
   ]
  },
  {
   "cell_type": "code",
   "execution_count": 23,
   "metadata": {},
   "outputs": [
    {
     "data": {
      "text/plain": [
       "['Status_of_existing_checking_account_A14',\n",
       " 'Credit_history_A34',\n",
       " 'Savings_account_bonds_A65',\n",
       " 'Purpose_A49',\n",
       " 'Property_A124',\n",
       " 'Present_employment_since_A75',\n",
       " 'Housing_A153',\n",
       " 'Other_installment_plans_A143',\n",
       " 'Personal_status_and_sex_A94']"
      ]
     },
     "execution_count": 23,
     "metadata": {},
     "output_type": "execute_result"
    }
   ],
   "source": [
    "removed_features"
   ]
  },
  {
   "cell_type": "code",
   "execution_count": 24,
   "metadata": {},
   "outputs": [
    {
     "data": {
      "text/html": [
       "<div>\n",
       "<style scoped>\n",
       "    .dataframe tbody tr th:only-of-type {\n",
       "        vertical-align: middle;\n",
       "    }\n",
       "\n",
       "    .dataframe tbody tr th {\n",
       "        vertical-align: top;\n",
       "    }\n",
       "\n",
       "    .dataframe thead th {\n",
       "        text-align: right;\n",
       "    }\n",
       "</style>\n",
       "<table border=\"1\" class=\"dataframe\">\n",
       "  <thead>\n",
       "    <tr style=\"text-align: right;\">\n",
       "      <th></th>\n",
       "      <th>Status_of_existing_checking_account_A12</th>\n",
       "      <th>Status_of_existing_checking_account_A13</th>\n",
       "    </tr>\n",
       "  </thead>\n",
       "  <tbody>\n",
       "    <tr>\n",
       "      <th>0</th>\n",
       "      <td>0</td>\n",
       "      <td>0</td>\n",
       "    </tr>\n",
       "    <tr>\n",
       "      <th>1</th>\n",
       "      <td>1</td>\n",
       "      <td>0</td>\n",
       "    </tr>\n",
       "    <tr>\n",
       "      <th>2</th>\n",
       "      <td>0</td>\n",
       "      <td>0</td>\n",
       "    </tr>\n",
       "    <tr>\n",
       "      <th>3</th>\n",
       "      <td>0</td>\n",
       "      <td>0</td>\n",
       "    </tr>\n",
       "    <tr>\n",
       "      <th>4</th>\n",
       "      <td>0</td>\n",
       "      <td>0</td>\n",
       "    </tr>\n",
       "  </tbody>\n",
       "</table>\n",
       "</div>"
      ],
      "text/plain": [
       "   Status_of_existing_checking_account_A12  \\\n",
       "0                                        0   \n",
       "1                                        1   \n",
       "2                                        0   \n",
       "3                                        0   \n",
       "4                                        0   \n",
       "\n",
       "   Status_of_existing_checking_account_A13  \n",
       "0                                        0  \n",
       "1                                        0  \n",
       "2                                        0  \n",
       "3                                        0  \n",
       "4                                        0  "
      ]
     },
     "execution_count": 24,
     "metadata": {},
     "output_type": "execute_result"
    }
   ],
   "source": [
    "cate_features['Status_of_existing_checking_account'].head()"
   ]
  },
  {
   "cell_type": "code",
   "execution_count": 25,
   "metadata": {},
   "outputs": [],
   "source": [
    "final_dataset = dataset[num_fetures]"
   ]
  },
  {
   "cell_type": "code",
   "execution_count": 26,
   "metadata": {},
   "outputs": [],
   "source": [
    "for col, df in cate_features.items():\n",
    "    final_dataset = pd.concat([final_dataset, df], axis=1)"
   ]
  },
  {
   "cell_type": "code",
   "execution_count": 27,
   "metadata": {},
   "outputs": [
    {
     "data": {
      "text/plain": [
       "(1000, 31)"
      ]
     },
     "execution_count": 27,
     "metadata": {},
     "output_type": "execute_result"
    }
   ],
   "source": [
    "final_dataset.shape"
   ]
  },
  {
   "cell_type": "code",
   "execution_count": 28,
   "metadata": {},
   "outputs": [
    {
     "data": {
      "text/html": [
       "<div>\n",
       "<style scoped>\n",
       "    .dataframe tbody tr th:only-of-type {\n",
       "        vertical-align: middle;\n",
       "    }\n",
       "\n",
       "    .dataframe tbody tr th {\n",
       "        vertical-align: top;\n",
       "    }\n",
       "\n",
       "    .dataframe thead th {\n",
       "        text-align: right;\n",
       "    }\n",
       "</style>\n",
       "<table border=\"1\" class=\"dataframe\">\n",
       "  <thead>\n",
       "    <tr style=\"text-align: right;\">\n",
       "      <th></th>\n",
       "      <th>Duration_in_month</th>\n",
       "      <th>Credit_amount</th>\n",
       "      <th>Age_in_years</th>\n",
       "      <th>Number_of_existing_credits_at_this_bank</th>\n",
       "      <th>Installment_rate_in_percentage_of_disposable_income</th>\n",
       "      <th>Present_residence_since</th>\n",
       "      <th>Status_of_existing_checking_account_A12</th>\n",
       "      <th>Status_of_existing_checking_account_A13</th>\n",
       "      <th>Credit_history_A31</th>\n",
       "      <th>Credit_history_A32</th>\n",
       "      <th>Credit_history_A33</th>\n",
       "      <th>Savings_account_bonds_A62</th>\n",
       "      <th>Savings_account_bonds_A63</th>\n",
       "      <th>Savings_account_bonds_A64</th>\n",
       "      <th>Purpose_A41</th>\n",
       "      <th>Purpose_A410</th>\n",
       "      <th>Purpose_A42</th>\n",
       "      <th>Purpose_A43</th>\n",
       "      <th>Purpose_A44</th>\n",
       "      <th>Purpose_A45</th>\n",
       "      <th>Purpose_A46</th>\n",
       "      <th>Purpose_A48</th>\n",
       "      <th>Property_A122</th>\n",
       "      <th>Property_A123</th>\n",
       "      <th>Present_employment_since_A72</th>\n",
       "      <th>Present_employment_since_A73</th>\n",
       "      <th>Present_employment_since_A74</th>\n",
       "      <th>Housing_A152</th>\n",
       "      <th>Other_installment_plans_A142</th>\n",
       "      <th>Personal_status_and_sex_A92</th>\n",
       "      <th>Personal_status_and_sex_A93</th>\n",
       "    </tr>\n",
       "  </thead>\n",
       "  <tbody>\n",
       "    <tr>\n",
       "      <th>0</th>\n",
       "      <td>6</td>\n",
       "      <td>1169</td>\n",
       "      <td>67</td>\n",
       "      <td>2</td>\n",
       "      <td>4</td>\n",
       "      <td>4</td>\n",
       "      <td>0</td>\n",
       "      <td>0</td>\n",
       "      <td>0</td>\n",
       "      <td>0</td>\n",
       "      <td>0</td>\n",
       "      <td>0</td>\n",
       "      <td>0</td>\n",
       "      <td>0</td>\n",
       "      <td>0</td>\n",
       "      <td>0</td>\n",
       "      <td>0</td>\n",
       "      <td>1</td>\n",
       "      <td>0</td>\n",
       "      <td>0</td>\n",
       "      <td>0</td>\n",
       "      <td>0</td>\n",
       "      <td>0</td>\n",
       "      <td>0</td>\n",
       "      <td>0</td>\n",
       "      <td>0</td>\n",
       "      <td>0</td>\n",
       "      <td>1</td>\n",
       "      <td>0</td>\n",
       "      <td>0</td>\n",
       "      <td>1</td>\n",
       "    </tr>\n",
       "    <tr>\n",
       "      <th>1</th>\n",
       "      <td>48</td>\n",
       "      <td>5951</td>\n",
       "      <td>22</td>\n",
       "      <td>1</td>\n",
       "      <td>2</td>\n",
       "      <td>2</td>\n",
       "      <td>1</td>\n",
       "      <td>0</td>\n",
       "      <td>0</td>\n",
       "      <td>1</td>\n",
       "      <td>0</td>\n",
       "      <td>0</td>\n",
       "      <td>0</td>\n",
       "      <td>0</td>\n",
       "      <td>0</td>\n",
       "      <td>0</td>\n",
       "      <td>0</td>\n",
       "      <td>1</td>\n",
       "      <td>0</td>\n",
       "      <td>0</td>\n",
       "      <td>0</td>\n",
       "      <td>0</td>\n",
       "      <td>0</td>\n",
       "      <td>0</td>\n",
       "      <td>0</td>\n",
       "      <td>1</td>\n",
       "      <td>0</td>\n",
       "      <td>1</td>\n",
       "      <td>0</td>\n",
       "      <td>1</td>\n",
       "      <td>0</td>\n",
       "    </tr>\n",
       "    <tr>\n",
       "      <th>2</th>\n",
       "      <td>12</td>\n",
       "      <td>2096</td>\n",
       "      <td>49</td>\n",
       "      <td>1</td>\n",
       "      <td>2</td>\n",
       "      <td>3</td>\n",
       "      <td>0</td>\n",
       "      <td>0</td>\n",
       "      <td>0</td>\n",
       "      <td>0</td>\n",
       "      <td>0</td>\n",
       "      <td>0</td>\n",
       "      <td>0</td>\n",
       "      <td>0</td>\n",
       "      <td>0</td>\n",
       "      <td>0</td>\n",
       "      <td>0</td>\n",
       "      <td>0</td>\n",
       "      <td>0</td>\n",
       "      <td>0</td>\n",
       "      <td>1</td>\n",
       "      <td>0</td>\n",
       "      <td>0</td>\n",
       "      <td>0</td>\n",
       "      <td>0</td>\n",
       "      <td>0</td>\n",
       "      <td>1</td>\n",
       "      <td>1</td>\n",
       "      <td>0</td>\n",
       "      <td>0</td>\n",
       "      <td>1</td>\n",
       "    </tr>\n",
       "    <tr>\n",
       "      <th>3</th>\n",
       "      <td>42</td>\n",
       "      <td>7882</td>\n",
       "      <td>45</td>\n",
       "      <td>1</td>\n",
       "      <td>2</td>\n",
       "      <td>4</td>\n",
       "      <td>0</td>\n",
       "      <td>0</td>\n",
       "      <td>0</td>\n",
       "      <td>1</td>\n",
       "      <td>0</td>\n",
       "      <td>0</td>\n",
       "      <td>0</td>\n",
       "      <td>0</td>\n",
       "      <td>0</td>\n",
       "      <td>0</td>\n",
       "      <td>1</td>\n",
       "      <td>0</td>\n",
       "      <td>0</td>\n",
       "      <td>0</td>\n",
       "      <td>0</td>\n",
       "      <td>0</td>\n",
       "      <td>1</td>\n",
       "      <td>0</td>\n",
       "      <td>0</td>\n",
       "      <td>0</td>\n",
       "      <td>1</td>\n",
       "      <td>0</td>\n",
       "      <td>0</td>\n",
       "      <td>0</td>\n",
       "      <td>1</td>\n",
       "    </tr>\n",
       "    <tr>\n",
       "      <th>4</th>\n",
       "      <td>24</td>\n",
       "      <td>4870</td>\n",
       "      <td>53</td>\n",
       "      <td>2</td>\n",
       "      <td>3</td>\n",
       "      <td>4</td>\n",
       "      <td>0</td>\n",
       "      <td>0</td>\n",
       "      <td>0</td>\n",
       "      <td>0</td>\n",
       "      <td>1</td>\n",
       "      <td>0</td>\n",
       "      <td>0</td>\n",
       "      <td>0</td>\n",
       "      <td>0</td>\n",
       "      <td>0</td>\n",
       "      <td>0</td>\n",
       "      <td>0</td>\n",
       "      <td>0</td>\n",
       "      <td>0</td>\n",
       "      <td>0</td>\n",
       "      <td>0</td>\n",
       "      <td>0</td>\n",
       "      <td>0</td>\n",
       "      <td>0</td>\n",
       "      <td>1</td>\n",
       "      <td>0</td>\n",
       "      <td>0</td>\n",
       "      <td>0</td>\n",
       "      <td>0</td>\n",
       "      <td>1</td>\n",
       "    </tr>\n",
       "  </tbody>\n",
       "</table>\n",
       "</div>"
      ],
      "text/plain": [
       "   Duration_in_month  Credit_amount  Age_in_years  \\\n",
       "0                  6           1169            67   \n",
       "1                 48           5951            22   \n",
       "2                 12           2096            49   \n",
       "3                 42           7882            45   \n",
       "4                 24           4870            53   \n",
       "\n",
       "   Number_of_existing_credits_at_this_bank  \\\n",
       "0                                        2   \n",
       "1                                        1   \n",
       "2                                        1   \n",
       "3                                        1   \n",
       "4                                        2   \n",
       "\n",
       "   Installment_rate_in_percentage_of_disposable_income  \\\n",
       "0                                                  4     \n",
       "1                                                  2     \n",
       "2                                                  2     \n",
       "3                                                  2     \n",
       "4                                                  3     \n",
       "\n",
       "   Present_residence_since  Status_of_existing_checking_account_A12  \\\n",
       "0                        4                                        0   \n",
       "1                        2                                        1   \n",
       "2                        3                                        0   \n",
       "3                        4                                        0   \n",
       "4                        4                                        0   \n",
       "\n",
       "   Status_of_existing_checking_account_A13  Credit_history_A31  \\\n",
       "0                                        0                   0   \n",
       "1                                        0                   0   \n",
       "2                                        0                   0   \n",
       "3                                        0                   0   \n",
       "4                                        0                   0   \n",
       "\n",
       "   Credit_history_A32  Credit_history_A33  Savings_account_bonds_A62  \\\n",
       "0                   0                   0                          0   \n",
       "1                   1                   0                          0   \n",
       "2                   0                   0                          0   \n",
       "3                   1                   0                          0   \n",
       "4                   0                   1                          0   \n",
       "\n",
       "   Savings_account_bonds_A63  Savings_account_bonds_A64  Purpose_A41  \\\n",
       "0                          0                          0            0   \n",
       "1                          0                          0            0   \n",
       "2                          0                          0            0   \n",
       "3                          0                          0            0   \n",
       "4                          0                          0            0   \n",
       "\n",
       "   Purpose_A410  Purpose_A42  Purpose_A43  Purpose_A44  Purpose_A45  \\\n",
       "0             0            0            1            0            0   \n",
       "1             0            0            1            0            0   \n",
       "2             0            0            0            0            0   \n",
       "3             0            1            0            0            0   \n",
       "4             0            0            0            0            0   \n",
       "\n",
       "   Purpose_A46  Purpose_A48  Property_A122  Property_A123  \\\n",
       "0            0            0              0              0   \n",
       "1            0            0              0              0   \n",
       "2            1            0              0              0   \n",
       "3            0            0              1              0   \n",
       "4            0            0              0              0   \n",
       "\n",
       "   Present_employment_since_A72  Present_employment_since_A73  \\\n",
       "0                             0                             0   \n",
       "1                             0                             1   \n",
       "2                             0                             0   \n",
       "3                             0                             0   \n",
       "4                             0                             1   \n",
       "\n",
       "   Present_employment_since_A74  Housing_A152  Other_installment_plans_A142  \\\n",
       "0                             0             1                             0   \n",
       "1                             0             1                             0   \n",
       "2                             1             1                             0   \n",
       "3                             1             0                             0   \n",
       "4                             0             0                             0   \n",
       "\n",
       "   Personal_status_and_sex_A92  Personal_status_and_sex_A93  \n",
       "0                            0                            1  \n",
       "1                            1                            0  \n",
       "2                            0                            1  \n",
       "3                            0                            1  \n",
       "4                            0                            1  "
      ]
     },
     "execution_count": 28,
     "metadata": {},
     "output_type": "execute_result"
    }
   ],
   "source": [
    "final_dataset.head()"
   ]
  },
  {
   "cell_type": "code",
   "execution_count": 29,
   "metadata": {},
   "outputs": [],
   "source": [
    "from sklearn.model_selection import train_test_split"
   ]
  },
  {
   "cell_type": "code",
   "execution_count": 30,
   "metadata": {},
   "outputs": [],
   "source": [
    "train_x, test_x, train_y, test_y = \\\n",
    "    train_test_split( \\\n",
    "        final_dataset, dataset['Target'], test_size=0.2, random_state=42)"
   ]
  },
  {
   "cell_type": "code",
   "execution_count": 31,
   "metadata": {},
   "outputs": [
    {
     "name": "stdout",
     "output_type": "stream",
     "text": [
      "train_set (800, 31)\n",
      "test_set (200, 31)\n"
     ]
    }
   ],
   "source": [
    "print('train_set', train_x.shape)\n",
    "print('test_set', test_x.shape)"
   ]
  },
  {
   "cell_type": "code",
   "execution_count": 32,
   "metadata": {},
   "outputs": [],
   "source": [
    "import statsmodels.api as sm"
   ]
  },
  {
   "cell_type": "code",
   "execution_count": 33,
   "metadata": {},
   "outputs": [
    {
     "name": "stdout",
     "output_type": "stream",
     "text": [
      "Optimization terminated successfully.\n",
      "         Current function value: 0.514623\n",
      "         Iterations 6\n"
     ]
    },
    {
     "name": "stderr",
     "output_type": "stream",
     "text": [
      "/home/skkucman/.local/lib/python3.6/site-packages/numpy/core/fromnumeric.py:2389: FutureWarning: Method .ptp is deprecated and will be removed in a future version. Use numpy.ptp instead.\n",
      "  return ptp(axis=axis, out=out, **kwargs)\n"
     ]
    }
   ],
   "source": [
    "logistic_model = sm.Logit(\n",
    "    train_y,\n",
    "    sm.add_constant(train_x)\n",
    ").fit()"
   ]
  },
  {
   "cell_type": "code",
   "execution_count": 34,
   "metadata": {},
   "outputs": [],
   "source": [
    "from sklearn.metrics import auc\n",
    "from sklearn.metrics import accuracy_score\n",
    "from sklearn.metrics import classification_report"
   ]
  },
  {
   "cell_type": "code",
   "execution_count": 35,
   "metadata": {},
   "outputs": [],
   "source": [
    "train_pred = pd.DataFrame({\n",
    "    'probs': logistic_model.predict(sm.add_constant(train_x)),\n",
    "    'class': train_y\n",
    "})\n",
    "\n",
    "train_pred['y_pred'] = 0\n",
    "train_pred.loc[train_pred['probs'] > 0.5, 'y_pred'] = 1\n",
    "\n",
    "# Test prediction\n",
    "test_pred = pd.DataFrame({\n",
    "    'probs': logistic_model.predict(sm.add_constant(test_x)),\n",
    "    'class': test_y\n",
    "})\n",
    "\n",
    "test_pred['y_pred'] = 0\n",
    "test_pred.loc[test_pred['probs'] > 0.5, 'y_pred'] = 1"
   ]
  },
  {
   "cell_type": "code",
   "execution_count": 36,
   "metadata": {},
   "outputs": [
    {
     "name": "stdout",
     "output_type": "stream",
     "text": [
      "\n",
      "Training Confusion matrix:\n"
     ]
    },
    {
     "data": {
      "text/html": [
       "<div>\n",
       "<style scoped>\n",
       "    .dataframe tbody tr th:only-of-type {\n",
       "        vertical-align: middle;\n",
       "    }\n",
       "\n",
       "    .dataframe tbody tr th {\n",
       "        vertical-align: top;\n",
       "    }\n",
       "\n",
       "    .dataframe thead th {\n",
       "        text-align: right;\n",
       "    }\n",
       "</style>\n",
       "<table border=\"1\" class=\"dataframe\">\n",
       "  <thead>\n",
       "    <tr style=\"text-align: right;\">\n",
       "      <th>Actual</th>\n",
       "      <th>0</th>\n",
       "      <th>1</th>\n",
       "      <th>All</th>\n",
       "    </tr>\n",
       "    <tr>\n",
       "      <th>Predict</th>\n",
       "      <th></th>\n",
       "      <th></th>\n",
       "      <th></th>\n",
       "    </tr>\n",
       "  </thead>\n",
       "  <tbody>\n",
       "    <tr>\n",
       "      <th>0</th>\n",
       "      <td>509</td>\n",
       "      <td>150</td>\n",
       "      <td>659</td>\n",
       "    </tr>\n",
       "    <tr>\n",
       "      <th>1</th>\n",
       "      <td>50</td>\n",
       "      <td>91</td>\n",
       "      <td>141</td>\n",
       "    </tr>\n",
       "    <tr>\n",
       "      <th>All</th>\n",
       "      <td>559</td>\n",
       "      <td>241</td>\n",
       "      <td>800</td>\n",
       "    </tr>\n",
       "  </tbody>\n",
       "</table>\n",
       "</div>"
      ],
      "text/plain": [
       "Actual     0    1  All\n",
       "Predict               \n",
       "0        509  150  659\n",
       "1         50   91  141\n",
       "All      559  241  800"
      ]
     },
     "metadata": {},
     "output_type": "display_data"
    },
    {
     "name": "stdout",
     "output_type": "stream",
     "text": [
      "\n",
      "Training Accuracy:  0.75\n",
      "\n",
      "Training classification report:\n",
      "               precision    recall  f1-score   support\n",
      "\n",
      "           0     0.7724    0.9106    0.8358       559\n",
      "           1     0.6454    0.3776    0.4764       241\n",
      "\n",
      "   micro avg     0.7500    0.7500    0.7500       800\n",
      "   macro avg     0.7089    0.6441    0.6561       800\n",
      "weighted avg     0.7341    0.7500    0.7275       800\n",
      "\n"
     ]
    }
   ],
   "source": [
    "print('\\nTraining Confusion matrix:')\n",
    "display(pd.crosstab(train_pred['y_pred'], train_pred['class'], rownames=['Predict'], colnames=['Actual'], margins=True))\n",
    "print('\\nTraining Accuracy: ', round(accuracy_score(train_pred['class'], train_pred['y_pred']), 4))\n",
    "print('\\nTraining classification report:\\n', classification_report(train_pred['class'], train_pred['y_pred'], digits=4))"
   ]
  },
  {
   "cell_type": "code",
   "execution_count": 37,
   "metadata": {},
   "outputs": [
    {
     "name": "stdout",
     "output_type": "stream",
     "text": [
      "Test Confusion matrix:\n"
     ]
    },
    {
     "data": {
      "text/html": [
       "<div>\n",
       "<style scoped>\n",
       "    .dataframe tbody tr th:only-of-type {\n",
       "        vertical-align: middle;\n",
       "    }\n",
       "\n",
       "    .dataframe tbody tr th {\n",
       "        vertical-align: top;\n",
       "    }\n",
       "\n",
       "    .dataframe thead th {\n",
       "        text-align: right;\n",
       "    }\n",
       "</style>\n",
       "<table border=\"1\" class=\"dataframe\">\n",
       "  <thead>\n",
       "    <tr style=\"text-align: right;\">\n",
       "      <th>Actual</th>\n",
       "      <th>0</th>\n",
       "      <th>1</th>\n",
       "      <th>All</th>\n",
       "    </tr>\n",
       "    <tr>\n",
       "      <th>Predict</th>\n",
       "      <th></th>\n",
       "      <th></th>\n",
       "      <th></th>\n",
       "    </tr>\n",
       "  </thead>\n",
       "  <tbody>\n",
       "    <tr>\n",
       "      <th>0</th>\n",
       "      <td>126</td>\n",
       "      <td>38</td>\n",
       "      <td>164</td>\n",
       "    </tr>\n",
       "    <tr>\n",
       "      <th>1</th>\n",
       "      <td>15</td>\n",
       "      <td>21</td>\n",
       "      <td>36</td>\n",
       "    </tr>\n",
       "    <tr>\n",
       "      <th>All</th>\n",
       "      <td>141</td>\n",
       "      <td>59</td>\n",
       "      <td>200</td>\n",
       "    </tr>\n",
       "  </tbody>\n",
       "</table>\n",
       "</div>"
      ],
      "text/plain": [
       "Actual     0   1  All\n",
       "Predict              \n",
       "0        126  38  164\n",
       "1         15  21   36\n",
       "All      141  59  200"
      ]
     },
     "metadata": {},
     "output_type": "display_data"
    },
    {
     "name": "stdout",
     "output_type": "stream",
     "text": [
      "\n",
      "Test Accuracy:  0.735\n",
      "\n",
      "Test classification report:\n",
      "               precision    recall  f1-score   support\n",
      "\n",
      "           0     0.7683    0.8936    0.8262       141\n",
      "           1     0.5833    0.3559    0.4421        59\n",
      "\n",
      "   micro avg     0.7350    0.7350    0.7350       200\n",
      "   macro avg     0.6758    0.6248    0.6342       200\n",
      "weighted avg     0.7137    0.7350    0.7129       200\n",
      "\n"
     ]
    }
   ],
   "source": [
    "print('Test Confusion matrix:')\n",
    "display(pd.crosstab(test_pred['y_pred'], test_pred['class'], rownames=['Predict'], colnames=['Actual'], margins=True))\n",
    "print('\\nTest Accuracy: ', round(accuracy_score(test_pred['class'], test_pred['y_pred']), 4))\n",
    "print('\\nTest classification report:\\n', classification_report(test_pred['class'], test_pred['y_pred'], digits=4))"
   ]
  },
  {
   "cell_type": "code",
   "execution_count": 38,
   "metadata": {},
   "outputs": [],
   "source": [
    "unnecesarries = []"
   ]
  },
  {
   "cell_type": "code",
   "execution_count": 39,
   "metadata": {},
   "outputs": [
    {
     "data": {
      "text/html": [
       "<table class=\"simpletable\">\n",
       "<tr>\n",
       "        <td>Model:</td>              <td>Logit</td>      <td>Pseudo R-squared:</td>    <td>0.159</td>  \n",
       "</tr>\n",
       "<tr>\n",
       "  <td>Dependent Variable:</td>      <td>Target</td>            <td>AIC:</td>         <td>887.3969</td> \n",
       "</tr>\n",
       "<tr>\n",
       "         <td>Date:</td>        <td>2019-04-24 21:13</td>       <td>BIC:</td>         <td>1037.3044</td>\n",
       "</tr>\n",
       "<tr>\n",
       "   <td>No. Observations:</td>         <td>800</td>        <td>Log-Likelihood:</td>    <td>-411.70</td> \n",
       "</tr>\n",
       "<tr>\n",
       "       <td>Df Model:</td>             <td>31</td>            <td>LL-Null:</td>        <td>-489.54</td> \n",
       "</tr>\n",
       "<tr>\n",
       "     <td>Df Residuals:</td>           <td>768</td>         <td>LLR p-value:</td>    <td>1.5173e-18</td>\n",
       "</tr>\n",
       "<tr>\n",
       "      <td>Converged:</td>           <td>1.0000</td>           <td>Scale:</td>         <td>1.0000</td>  \n",
       "</tr>\n",
       "<tr>\n",
       "    <td>No. Iterations:</td>        <td>6.0000</td>              <td></td>               <td></td>     \n",
       "</tr>\n",
       "</table>\n",
       "<table class=\"simpletable\">\n",
       "<tr>\n",
       "                           <td></td>                            <th>Coef.</th>  <th>Std.Err.</th>    <th>z</th>     <th>P>|z|</th> <th>[0.025</th>  <th>0.975]</th> \n",
       "</tr>\n",
       "<tr>\n",
       "  <th>const</th>                                               <td>-1.1131</td>  <td>0.7413</td>  <td>-1.5017</td> <td>0.1332</td> <td>-2.5660</td> <td>0.3397</td> \n",
       "</tr>\n",
       "<tr>\n",
       "  <th>Duration_in_month</th>                                   <td>0.0265</td>   <td>0.0096</td>  <td>2.7664</td>  <td>0.0057</td> <td>0.0077</td>  <td>0.0453</td> \n",
       "</tr>\n",
       "<tr>\n",
       "  <th>Credit_amount</th>                                       <td>0.0001</td>   <td>0.0000</td>  <td>2.2236</td>  <td>0.0262</td> <td>0.0000</td>  <td>0.0002</td> \n",
       "</tr>\n",
       "<tr>\n",
       "  <th>Age_in_years</th>                                        <td>-0.0298</td>  <td>0.0095</td>  <td>-3.1513</td> <td>0.0016</td> <td>-0.0484</td> <td>-0.0113</td>\n",
       "</tr>\n",
       "<tr>\n",
       "  <th>Number_of_existing_credits_at_this_bank</th>             <td>0.2706</td>   <td>0.1861</td>  <td>1.4545</td>  <td>0.1458</td> <td>-0.0940</td> <td>0.6353</td> \n",
       "</tr>\n",
       "<tr>\n",
       "  <th>Installment_rate_in_percentage_of_disposable_income</th> <td>0.2672</td>   <td>0.0882</td>  <td>3.0306</td>  <td>0.0024</td> <td>0.0944</td>  <td>0.4400</td> \n",
       "</tr>\n",
       "<tr>\n",
       "  <th>Present_residence_since</th>                             <td>0.0059</td>   <td>0.0878</td>  <td>0.0673</td>  <td>0.9464</td> <td>-0.1661</td> <td>0.1779</td> \n",
       "</tr>\n",
       "<tr>\n",
       "  <th>Status_of_existing_checking_account_A12</th>             <td>0.4112</td>   <td>0.1979</td>  <td>2.0783</td>  <td>0.0377</td> <td>0.0234</td>  <td>0.7990</td> \n",
       "</tr>\n",
       "<tr>\n",
       "  <th>Status_of_existing_checking_account_A13</th>             <td>-0.1448</td>  <td>0.4015</td>  <td>-0.3607</td> <td>0.7183</td> <td>-0.9317</td> <td>0.6421</td> \n",
       "</tr>\n",
       "<tr>\n",
       "  <th>Credit_history_A31</th>                                  <td>1.7155</td>   <td>0.4317</td>  <td>3.9734</td>  <td>0.0001</td> <td>0.8693</td>  <td>2.5617</td> \n",
       "</tr>\n",
       "<tr>\n",
       "  <th>Credit_history_A32</th>                                  <td>0.5868</td>   <td>0.2382</td>  <td>2.4634</td>  <td>0.0138</td> <td>0.1199</td>  <td>1.0536</td> \n",
       "</tr>\n",
       "<tr>\n",
       "  <th>Credit_history_A33</th>                                  <td>0.0138</td>   <td>0.3316</td>  <td>0.0417</td>  <td>0.9667</td> <td>-0.6362</td> <td>0.6639</td> \n",
       "</tr>\n",
       "<tr>\n",
       "  <th>Savings_account_bonds_A62</th>                           <td>-0.2098</td>  <td>0.2875</td>  <td>-0.7299</td> <td>0.4655</td> <td>-0.7733</td> <td>0.3536</td> \n",
       "</tr>\n",
       "<tr>\n",
       "  <th>Savings_account_bonds_A63</th>                           <td>-0.6078</td>  <td>0.3889</td>  <td>-1.5627</td> <td>0.1181</td> <td>-1.3701</td> <td>0.1545</td> \n",
       "</tr>\n",
       "<tr>\n",
       "  <th>Savings_account_bonds_A64</th>                           <td>-1.0729</td>  <td>0.5167</td>  <td>-2.0766</td> <td>0.0378</td> <td>-2.0856</td> <td>-0.0603</td>\n",
       "</tr>\n",
       "<tr>\n",
       "  <th>Purpose_A41</th>                                         <td>-1.4668</td>  <td>0.3517</td>  <td>-4.1712</td> <td>0.0000</td> <td>-2.1560</td> <td>-0.7776</td>\n",
       "</tr>\n",
       "<tr>\n",
       "  <th>Purpose_A410</th>                                        <td>-0.4502</td>  <td>0.7474</td>  <td>-0.6024</td> <td>0.5469</td> <td>-1.9152</td> <td>1.0147</td> \n",
       "</tr>\n",
       "<tr>\n",
       "  <th>Purpose_A42</th>                                         <td>-0.5707</td>  <td>0.2553</td>  <td>-2.2358</td> <td>0.0254</td> <td>-1.0710</td> <td>-0.0704</td>\n",
       "</tr>\n",
       "<tr>\n",
       "  <th>Purpose_A43</th>                                         <td>-0.9952</td>  <td>0.2322</td>  <td>-4.2863</td> <td>0.0000</td> <td>-1.4503</td> <td>-0.5401</td>\n",
       "</tr>\n",
       "<tr>\n",
       "  <th>Purpose_A44</th>                                         <td>-0.2486</td>  <td>0.7108</td>  <td>-0.3498</td> <td>0.7265</td> <td>-1.6419</td> <td>1.1446</td> \n",
       "</tr>\n",
       "<tr>\n",
       "  <th>Purpose_A45</th>                                         <td>-0.1774</td>  <td>0.5477</td>  <td>-0.3238</td> <td>0.7461</td> <td>-1.2509</td> <td>0.8961</td> \n",
       "</tr>\n",
       "<tr>\n",
       "  <th>Purpose_A46</th>                                         <td>0.3340</td>   <td>0.3975</td>  <td>0.8402</td>  <td>0.4008</td> <td>-0.4451</td> <td>1.1131</td> \n",
       "</tr>\n",
       "<tr>\n",
       "  <th>Purpose_A48</th>                                         <td>-1.6780</td>  <td>1.1461</td>  <td>-1.4641</td> <td>0.1432</td> <td>-3.9244</td> <td>0.5684</td> \n",
       "</tr>\n",
       "<tr>\n",
       "  <th>Property_A122</th>                                       <td>0.2848</td>   <td>0.2346</td>  <td>1.2139</td>  <td>0.2248</td> <td>-0.1751</td> <td>0.7447</td> \n",
       "</tr>\n",
       "<tr>\n",
       "  <th>Property_A123</th>                                       <td>0.2275</td>   <td>0.2081</td>  <td>1.0933</td>  <td>0.2743</td> <td>-0.1803</td> <td>0.6353</td> \n",
       "</tr>\n",
       "<tr>\n",
       "  <th>Present_employment_since_A72</th>                        <td>0.1528</td>   <td>0.2803</td>  <td>0.5452</td>  <td>0.5856</td> <td>-0.3966</td> <td>0.7023</td> \n",
       "</tr>\n",
       "<tr>\n",
       "  <th>Present_employment_since_A73</th>                        <td>0.0827</td>   <td>0.2331</td>  <td>0.3547</td>  <td>0.7228</td> <td>-0.3742</td> <td>0.5395</td> \n",
       "</tr>\n",
       "<tr>\n",
       "  <th>Present_employment_since_A74</th>                        <td>-0.3735</td>  <td>0.2826</td>  <td>-1.3217</td> <td>0.1863</td> <td>-0.9275</td> <td>0.1804</td> \n",
       "</tr>\n",
       "<tr>\n",
       "  <th>Housing_A152</th>                                        <td>-0.7849</td>  <td>0.2106</td>  <td>-3.7262</td> <td>0.0002</td> <td>-1.1977</td> <td>-0.3720</td>\n",
       "</tr>\n",
       "<tr>\n",
       "  <th>Other_installment_plans_A142</th>                        <td>0.2858</td>   <td>0.4077</td>  <td>0.7010</td>  <td>0.4833</td> <td>-0.5133</td> <td>1.0849</td> \n",
       "</tr>\n",
       "<tr>\n",
       "  <th>Personal_status_and_sex_A92</th>                         <td>-0.1296</td>  <td>0.2762</td>  <td>-0.4691</td> <td>0.6390</td> <td>-0.6710</td> <td>0.4118</td> \n",
       "</tr>\n",
       "<tr>\n",
       "  <th>Personal_status_and_sex_A93</th>                         <td>-0.5505</td>  <td>0.2709</td>  <td>-2.0318</td> <td>0.0422</td> <td>-1.0815</td> <td>-0.0195</td>\n",
       "</tr>\n",
       "</table>"
      ],
      "text/plain": [
       "<class 'statsmodels.iolib.summary2.Summary'>\n",
       "\"\"\"\n",
       "                                          Results: Logit\n",
       "===================================================================================================\n",
       "Model:                          Logit                       Pseudo R-squared:            0.159     \n",
       "Dependent Variable:             Target                      AIC:                         887.3969  \n",
       "Date:                           2019-04-24 21:13            BIC:                         1037.3044 \n",
       "No. Observations:               800                         Log-Likelihood:              -411.70   \n",
       "Df Model:                       31                          LL-Null:                     -489.54   \n",
       "Df Residuals:                   768                         LLR p-value:                 1.5173e-18\n",
       "Converged:                      1.0000                      Scale:                       1.0000    \n",
       "No. Iterations:                 6.0000                                                             \n",
       "---------------------------------------------------------------------------------------------------\n",
       "                                                     Coef.  Std.Err.    z    P>|z|   [0.025  0.975]\n",
       "---------------------------------------------------------------------------------------------------\n",
       "const                                               -1.1131   0.7413 -1.5017 0.1332 -2.5660  0.3397\n",
       "Duration_in_month                                    0.0265   0.0096  2.7664 0.0057  0.0077  0.0453\n",
       "Credit_amount                                        0.0001   0.0000  2.2236 0.0262  0.0000  0.0002\n",
       "Age_in_years                                        -0.0298   0.0095 -3.1513 0.0016 -0.0484 -0.0113\n",
       "Number_of_existing_credits_at_this_bank              0.2706   0.1861  1.4545 0.1458 -0.0940  0.6353\n",
       "Installment_rate_in_percentage_of_disposable_income  0.2672   0.0882  3.0306 0.0024  0.0944  0.4400\n",
       "Present_residence_since                              0.0059   0.0878  0.0673 0.9464 -0.1661  0.1779\n",
       "Status_of_existing_checking_account_A12              0.4112   0.1979  2.0783 0.0377  0.0234  0.7990\n",
       "Status_of_existing_checking_account_A13             -0.1448   0.4015 -0.3607 0.7183 -0.9317  0.6421\n",
       "Credit_history_A31                                   1.7155   0.4317  3.9734 0.0001  0.8693  2.5617\n",
       "Credit_history_A32                                   0.5868   0.2382  2.4634 0.0138  0.1199  1.0536\n",
       "Credit_history_A33                                   0.0138   0.3316  0.0417 0.9667 -0.6362  0.6639\n",
       "Savings_account_bonds_A62                           -0.2098   0.2875 -0.7299 0.4655 -0.7733  0.3536\n",
       "Savings_account_bonds_A63                           -0.6078   0.3889 -1.5627 0.1181 -1.3701  0.1545\n",
       "Savings_account_bonds_A64                           -1.0729   0.5167 -2.0766 0.0378 -2.0856 -0.0603\n",
       "Purpose_A41                                         -1.4668   0.3517 -4.1712 0.0000 -2.1560 -0.7776\n",
       "Purpose_A410                                        -0.4502   0.7474 -0.6024 0.5469 -1.9152  1.0147\n",
       "Purpose_A42                                         -0.5707   0.2553 -2.2358 0.0254 -1.0710 -0.0704\n",
       "Purpose_A43                                         -0.9952   0.2322 -4.2863 0.0000 -1.4503 -0.5401\n",
       "Purpose_A44                                         -0.2486   0.7108 -0.3498 0.7265 -1.6419  1.1446\n",
       "Purpose_A45                                         -0.1774   0.5477 -0.3238 0.7461 -1.2509  0.8961\n",
       "Purpose_A46                                          0.3340   0.3975  0.8402 0.4008 -0.4451  1.1131\n",
       "Purpose_A48                                         -1.6780   1.1461 -1.4641 0.1432 -3.9244  0.5684\n",
       "Property_A122                                        0.2848   0.2346  1.2139 0.2248 -0.1751  0.7447\n",
       "Property_A123                                        0.2275   0.2081  1.0933 0.2743 -0.1803  0.6353\n",
       "Present_employment_since_A72                         0.1528   0.2803  0.5452 0.5856 -0.3966  0.7023\n",
       "Present_employment_since_A73                         0.0827   0.2331  0.3547 0.7228 -0.3742  0.5395\n",
       "Present_employment_since_A74                        -0.3735   0.2826 -1.3217 0.1863 -0.9275  0.1804\n",
       "Housing_A152                                        -0.7849   0.2106 -3.7262 0.0002 -1.1977 -0.3720\n",
       "Other_installment_plans_A142                         0.2858   0.4077  0.7010 0.4833 -0.5133  1.0849\n",
       "Personal_status_and_sex_A92                         -0.1296   0.2762 -0.4691 0.6390 -0.6710  0.4118\n",
       "Personal_status_and_sex_A93                         -0.5505   0.2709 -2.0318 0.0422 -1.0815 -0.0195\n",
       "===================================================================================================\n",
       "\n",
       "\"\"\""
      ]
     },
     "execution_count": 39,
     "metadata": {},
     "output_type": "execute_result"
    }
   ],
   "source": [
    "logistic_model.summary2()"
   ]
  },
  {
   "cell_type": "code",
   "execution_count": 40,
   "metadata": {},
   "outputs": [],
   "source": [
    "def get_max_vif(df, removal_cols):\n",
    "    vifs = []\n",
    "    cnames = df.drop(removal_cols, axis=1).columns.tolist()\n",
    "    for i in range(len(cnames)):\n",
    "        xvar = cnames[:]\n",
    "        yvar = xvar.pop(i)\n",
    "        model = sm.OLS(\n",
    "            df.drop(removal_cols, axis=1)[yvar], \n",
    "            sm.add_constant(df.drop(removal_cols, axis=1)[xvar]))\n",
    "        res = model.fit()\n",
    "        vif = 1 / (1 - res.rsquared)\n",
    "        vifs.append((yvar, round(vif, 3)))\n",
    "    vifs = sorted(vifs, key=operator.itemgetter(1), reverse=True)\n",
    "    return vifs"
   ]
  },
  {
   "cell_type": "code",
   "execution_count": 41,
   "metadata": {},
   "outputs": [],
   "source": [
    "vifs = get_max_vif(train_x, unnecesarries)"
   ]
  },
  {
   "cell_type": "code",
   "execution_count": 42,
   "metadata": {},
   "outputs": [
    {
     "data": {
      "text/plain": [
       "[('Personal_status_and_sex_A93', 2.553),\n",
       " ('Personal_status_and_sex_A92', 2.423),\n",
       " ('Credit_amount', 2.305),\n",
       " ('Duration_in_month', 1.892),\n",
       " ('Credit_history_A32', 1.817),\n",
       " ('Present_employment_since_A73', 1.63),\n",
       " ('Present_employment_since_A72', 1.609),\n",
       " ('Number_of_existing_credits_at_this_bank', 1.541),\n",
       " ('Present_employment_since_A74', 1.436),\n",
       " ('Purpose_A43', 1.396),\n",
       " ('Age_in_years', 1.391),\n",
       " ('Purpose_A42', 1.36),\n",
       " ('Property_A123', 1.345),\n",
       " ('Property_A122', 1.321),\n",
       " ('Present_residence_since', 1.313),\n",
       " ('Housing_A152', 1.296),\n",
       " ('Purpose_A41', 1.283),\n",
       " ('Installment_rate_in_percentage_of_disposable_income', 1.282),\n",
       " ('Credit_history_A33', 1.241),\n",
       " ('Credit_history_A31', 1.224),\n",
       " ('Status_of_existing_checking_account_A12', 1.117),\n",
       " ('Purpose_A410', 1.111),\n",
       " ('Purpose_A46', 1.109),\n",
       " ('Other_installment_plans_A142', 1.074),\n",
       " ('Purpose_A45', 1.073),\n",
       " ('Savings_account_bonds_A62', 1.067),\n",
       " ('Status_of_existing_checking_account_A13', 1.065),\n",
       " ('Purpose_A48', 1.057),\n",
       " ('Purpose_A44', 1.055),\n",
       " ('Savings_account_bonds_A63', 1.047),\n",
       " ('Savings_account_bonds_A64', 1.045)]"
      ]
     },
     "execution_count": 42,
     "metadata": {},
     "output_type": "execute_result"
    }
   ],
   "source": [
    "vifs"
   ]
  },
  {
   "cell_type": "markdown",
   "metadata": {},
   "source": [
    "C통계량\n",
    "\n",
    "실제 / 예측\n",
    "1 / 0.92\n",
    "0 / 0.34\n",
    "0 / 0.12\n",
    "1 / 0.4\n",
    "1 / 0.64\n",
    "0 / 0.82\n",
    "1 / 0.84\n",
    "\n",
    "실제 / 예측            실제 / 예측\n",
    "1                     0 /\n",
    "1                     0 / \n",
    "1                     0 / \n",
    "1\n",
    "\n",
    "(Cartesian Product)\n",
    "실제  /  예측      실제  /  예측     일치    불일치\n",
    "1     /           0                   \n",
    "                  0\n",
    "                  0\n",
    "1     /           0\n",
    "                  0\n",
    "                  0                         V\n",
    "1     /           0\n",
    "                  0                         V\n",
    "                  0\n",
    "1     /           0\n",
    "                  0\n",
    "                  0\n",
    "\n",
    "%일치쌍 = 10/12 = 83.3%\n",
    "%불일치 = 2/12 = 16.67\n",
    "\n",
    "C = 0.5+ (%일치쌍 - %불일치쌍)/2"
   ]
  },
  {
   "cell_type": "code",
   "execution_count": 43,
   "metadata": {},
   "outputs": [],
   "source": [
    "def get_c_stat(iv_pred):\n",
    "    noraml_test_df = iv_pred[iv_pred['class'] == 0][['class', 'probs']]\n",
    "    spammer_test_df = iv_pred[iv_pred['class'] == 1][['class', 'probs']]\n",
    "\n",
    "    noraml_test_df['key'] = 0\n",
    "    spammer_test_df['key'] = 0\n",
    "\n",
    "    cross_join_df = noraml_test_df.merge(spammer_test_df, how='outer', on='key').drop('key', axis=1)\n",
    "\n",
    "    cross_join_df['concordance'] = cross_join_df['probs_x'] < cross_join_df['probs_y']\n",
    "    cross_join_df['in_concordance'] = cross_join_df['probs_x'] > cross_join_df['probs_y']\n",
    "    cross_join_df['tie'] = cross_join_df['probs_x'] == cross_join_df['probs_y']\n",
    "\n",
    "    results = cross_join_df.agg({'concordance': np.sum, 'in_concordance': np.sum, 'tie': np.sum}) / len(cross_join_df)\n",
    "    c_stat = 0.5 + (results['concordance'] - results['in_concordance']) / 2\n",
    "    \n",
    "    return c_stat"
   ]
  },
  {
   "cell_type": "code",
   "execution_count": 44,
   "metadata": {},
   "outputs": [],
   "source": [
    "def get_aic_value(model):\n",
    "    return -2 * model.llf + 2 * (len(model.params) - 1)"
   ]
  },
  {
   "cell_type": "code",
   "execution_count": 45,
   "metadata": {},
   "outputs": [
    {
     "name": "stdout",
     "output_type": "stream",
     "text": [
      "c_stat: 0.7628768028266243\n",
      "aic: 885.3968510659702\n",
      "loglikehood: -411.6984255329851\n"
     ]
    }
   ],
   "source": [
    "c_stat, aic = get_c_stat(train_pred), get_aic_value(logistic_model)\n",
    "print('c_stat:', c_stat)\n",
    "print('aic:', aic)\n",
    "print('loglikehood:', logistic_model.llf)"
   ]
  },
  {
   "cell_type": "code",
   "execution_count": 46,
   "metadata": {},
   "outputs": [
    {
     "name": "stdout",
     "output_type": "stream",
     "text": [
      "c_stat: 0.6970789758384421\n",
      "aic: 885.3968510659702\n",
      "loglikehood: -411.6984255329851\n"
     ]
    }
   ],
   "source": [
    "c_stat, aic = get_c_stat(test_pred), get_aic_value(logistic_model)\n",
    "print('c_stat:', c_stat)\n",
    "print('aic:', aic)\n",
    "print('loglikehood:', logistic_model.llf)"
   ]
  },
  {
   "cell_type": "code",
   "execution_count": 47,
   "metadata": {},
   "outputs": [
    {
     "data": {
      "text/plain": [
       "0    700\n",
       "1    300\n",
       "Name: Target, dtype: int64"
      ]
     },
     "execution_count": 47,
     "metadata": {},
     "output_type": "execute_result"
    }
   ],
   "source": [
    "# 2.3 : 1 정도는 imbalance 인가?\n",
    "dataset.Target.value_counts()"
   ]
  },
  {
   "cell_type": "code",
   "execution_count": 48,
   "metadata": {},
   "outputs": [],
   "source": [
    "from sklearn.model_selection import train_test_split"
   ]
  },
  {
   "cell_type": "code",
   "execution_count": 49,
   "metadata": {},
   "outputs": [],
   "source": [
    "train_set, test_set = train_test_split(dataset, test_size=0.3, random_state=42)"
   ]
  },
  {
   "cell_type": "code",
   "execution_count": 50,
   "metadata": {},
   "outputs": [
    {
     "data": {
      "text/plain": [
       "0    491\n",
       "1    209\n",
       "Name: Target, dtype: int64"
      ]
     },
     "execution_count": 50,
     "metadata": {},
     "output_type": "execute_result"
    }
   ],
   "source": [
    "# 학습셋에서 비율 확인\n",
    "train_set.Target.value_counts()"
   ]
  },
  {
   "cell_type": "code",
   "execution_count": 51,
   "metadata": {},
   "outputs": [
    {
     "data": {
      "text/plain": [
       "0    209\n",
       "1     91\n",
       "Name: Target, dtype: int64"
      ]
     },
     "execution_count": 51,
     "metadata": {},
     "output_type": "execute_result"
    }
   ],
   "source": [
    "# 테스트셋에서 비율 확인\n",
    "test_set.Target.value_counts()"
   ]
  },
  {
   "cell_type": "code",
   "execution_count": 52,
   "metadata": {},
   "outputs": [],
   "source": [
    "num_features = []\n",
    "cate_features = []\n",
    "for feat in dataset.columns:\n",
    "    if dataset[feat].dtype == 'object':\n",
    "        cate_features.append(feat)\n",
    "    elif feat != 'Target':\n",
    "        num_features.append(feat)"
   ]
  },
  {
   "cell_type": "code",
   "execution_count": 53,
   "metadata": {},
   "outputs": [
    {
     "data": {
      "text/plain": [
       "['Duration_in_month',\n",
       " 'Credit_amount',\n",
       " 'Installment_rate_in_percentage_of_disposable_income',\n",
       " 'Present_residence_since',\n",
       " 'Age_in_years',\n",
       " 'Number_of_existing_credits_at_this_bank',\n",
       " 'Number_of_people_being_liable_to_provide_maintenance_for']"
      ]
     },
     "execution_count": 53,
     "metadata": {},
     "output_type": "execute_result"
    }
   ],
   "source": [
    "num_features"
   ]
  },
  {
   "cell_type": "code",
   "execution_count": 54,
   "metadata": {},
   "outputs": [
    {
     "data": {
      "text/plain": [
       "['Status_of_existing_checking_account',\n",
       " 'Credit_history',\n",
       " 'Purpose',\n",
       " 'Savings_account_bonds',\n",
       " 'Present_employment_since',\n",
       " 'Personal_status_and_sex',\n",
       " 'Other_debtors_guarantors',\n",
       " 'Property',\n",
       " 'Other_installment_plans',\n",
       " 'Housing',\n",
       " 'Job',\n",
       " 'Telephone',\n",
       " 'foreign_worker']"
      ]
     },
     "execution_count": 54,
     "metadata": {},
     "output_type": "execute_result"
    }
   ],
   "source": [
    "cate_features"
   ]
  },
  {
   "cell_type": "code",
   "execution_count": 55,
   "metadata": {},
   "outputs": [],
   "source": [
    "# Minmax를 선택하겠다. 왜?  Feature간 \n",
    "from sklearn.preprocessing import MinMaxScaler"
   ]
  },
  {
   "cell_type": "code",
   "execution_count": 56,
   "metadata": {},
   "outputs": [
    {
     "data": {
      "text/html": [
       "<div>\n",
       "<style scoped>\n",
       "    .dataframe tbody tr th:only-of-type {\n",
       "        vertical-align: middle;\n",
       "    }\n",
       "\n",
       "    .dataframe tbody tr th {\n",
       "        vertical-align: top;\n",
       "    }\n",
       "\n",
       "    .dataframe thead th {\n",
       "        text-align: right;\n",
       "    }\n",
       "</style>\n",
       "<table border=\"1\" class=\"dataframe\">\n",
       "  <thead>\n",
       "    <tr style=\"text-align: right;\">\n",
       "      <th></th>\n",
       "      <th>Duration_in_month</th>\n",
       "      <th>Credit_amount</th>\n",
       "      <th>Installment_rate_in_percentage_of_disposable_income</th>\n",
       "      <th>Present_residence_since</th>\n",
       "      <th>Age_in_years</th>\n",
       "      <th>Number_of_existing_credits_at_this_bank</th>\n",
       "      <th>Number_of_people_being_liable_to_provide_maintenance_for</th>\n",
       "    </tr>\n",
       "  </thead>\n",
       "  <tbody>\n",
       "    <tr>\n",
       "      <th>count</th>\n",
       "      <td>700.000000</td>\n",
       "      <td>700.000000</td>\n",
       "      <td>700.000000</td>\n",
       "      <td>700.000000</td>\n",
       "      <td>700.000000</td>\n",
       "      <td>700.000000</td>\n",
       "      <td>700.000000</td>\n",
       "    </tr>\n",
       "    <tr>\n",
       "      <th>mean</th>\n",
       "      <td>21.252857</td>\n",
       "      <td>3406.815714</td>\n",
       "      <td>2.981429</td>\n",
       "      <td>2.834286</td>\n",
       "      <td>35.492857</td>\n",
       "      <td>1.420000</td>\n",
       "      <td>1.137143</td>\n",
       "    </tr>\n",
       "    <tr>\n",
       "      <th>std</th>\n",
       "      <td>11.900051</td>\n",
       "      <td>2971.897408</td>\n",
       "      <td>1.118679</td>\n",
       "      <td>1.103238</td>\n",
       "      <td>11.253037</td>\n",
       "      <td>0.581695</td>\n",
       "      <td>0.344244</td>\n",
       "    </tr>\n",
       "    <tr>\n",
       "      <th>min</th>\n",
       "      <td>4.000000</td>\n",
       "      <td>250.000000</td>\n",
       "      <td>1.000000</td>\n",
       "      <td>1.000000</td>\n",
       "      <td>19.000000</td>\n",
       "      <td>1.000000</td>\n",
       "      <td>1.000000</td>\n",
       "    </tr>\n",
       "    <tr>\n",
       "      <th>25%</th>\n",
       "      <td>12.000000</td>\n",
       "      <td>1381.750000</td>\n",
       "      <td>2.000000</td>\n",
       "      <td>2.000000</td>\n",
       "      <td>27.000000</td>\n",
       "      <td>1.000000</td>\n",
       "      <td>1.000000</td>\n",
       "    </tr>\n",
       "    <tr>\n",
       "      <th>50%</th>\n",
       "      <td>18.000000</td>\n",
       "      <td>2332.000000</td>\n",
       "      <td>3.000000</td>\n",
       "      <td>3.000000</td>\n",
       "      <td>33.000000</td>\n",
       "      <td>1.000000</td>\n",
       "      <td>1.000000</td>\n",
       "    </tr>\n",
       "    <tr>\n",
       "      <th>75%</th>\n",
       "      <td>24.000000</td>\n",
       "      <td>4226.000000</td>\n",
       "      <td>4.000000</td>\n",
       "      <td>4.000000</td>\n",
       "      <td>42.000000</td>\n",
       "      <td>2.000000</td>\n",
       "      <td>1.000000</td>\n",
       "    </tr>\n",
       "    <tr>\n",
       "      <th>max</th>\n",
       "      <td>60.000000</td>\n",
       "      <td>18424.000000</td>\n",
       "      <td>4.000000</td>\n",
       "      <td>4.000000</td>\n",
       "      <td>75.000000</td>\n",
       "      <td>4.000000</td>\n",
       "      <td>2.000000</td>\n",
       "    </tr>\n",
       "  </tbody>\n",
       "</table>\n",
       "</div>"
      ],
      "text/plain": [
       "       Duration_in_month  Credit_amount  \\\n",
       "count         700.000000     700.000000   \n",
       "mean           21.252857    3406.815714   \n",
       "std            11.900051    2971.897408   \n",
       "min             4.000000     250.000000   \n",
       "25%            12.000000    1381.750000   \n",
       "50%            18.000000    2332.000000   \n",
       "75%            24.000000    4226.000000   \n",
       "max            60.000000   18424.000000   \n",
       "\n",
       "       Installment_rate_in_percentage_of_disposable_income  \\\n",
       "count                                         700.000000     \n",
       "mean                                            2.981429     \n",
       "std                                             1.118679     \n",
       "min                                             1.000000     \n",
       "25%                                             2.000000     \n",
       "50%                                             3.000000     \n",
       "75%                                             4.000000     \n",
       "max                                             4.000000     \n",
       "\n",
       "       Present_residence_since  Age_in_years  \\\n",
       "count               700.000000    700.000000   \n",
       "mean                  2.834286     35.492857   \n",
       "std                   1.103238     11.253037   \n",
       "min                   1.000000     19.000000   \n",
       "25%                   2.000000     27.000000   \n",
       "50%                   3.000000     33.000000   \n",
       "75%                   4.000000     42.000000   \n",
       "max                   4.000000     75.000000   \n",
       "\n",
       "       Number_of_existing_credits_at_this_bank  \\\n",
       "count                               700.000000   \n",
       "mean                                  1.420000   \n",
       "std                                   0.581695   \n",
       "min                                   1.000000   \n",
       "25%                                   1.000000   \n",
       "50%                                   1.000000   \n",
       "75%                                   2.000000   \n",
       "max                                   4.000000   \n",
       "\n",
       "       Number_of_people_being_liable_to_provide_maintenance_for  \n",
       "count                                         700.000000         \n",
       "mean                                            1.137143         \n",
       "std                                             0.344244         \n",
       "min                                             1.000000         \n",
       "25%                                             1.000000         \n",
       "50%                                             1.000000         \n",
       "75%                                             1.000000         \n",
       "max                                             2.000000         "
      ]
     },
     "execution_count": 56,
     "metadata": {},
     "output_type": "execute_result"
    }
   ],
   "source": [
    "# Null 값 체크\n",
    "train_set[num_features].describe()"
   ]
  },
  {
   "cell_type": "code",
   "execution_count": 57,
   "metadata": {},
   "outputs": [
    {
     "name": "stderr",
     "output_type": "stream",
     "text": [
      "/home/skkucman/.local/lib/python3.6/site-packages/sklearn/preprocessing/data.py:334: DataConversionWarning: Data with input dtype int64 were all converted to float64 by MinMaxScaler.\n",
      "  return self.partial_fit(X, y)\n"
     ]
    },
    {
     "data": {
      "text/plain": [
       "MinMaxScaler(copy=True, feature_range=(0, 1))"
      ]
     },
     "execution_count": 57,
     "metadata": {},
     "output_type": "execute_result"
    }
   ],
   "source": [
    "scaler = MinMaxScaler()\n",
    "scaler.fit(train_set[num_features])"
   ]
  },
  {
   "cell_type": "markdown",
   "metadata": {},
   "source": [
    "fit_transform이 있지만 각각 나눠서 하는 이유는 테스트셋의 MinMax를 train셋의 기준으로 적용하기 위함"
   ]
  },
  {
   "cell_type": "code",
   "execution_count": 58,
   "metadata": {},
   "outputs": [],
   "source": [
    "train_scaled_num_features = scaler.transform(train_set[num_features])\n",
    "test_scaled_num_features = scaler.transform(test_set[num_features])"
   ]
  },
  {
   "cell_type": "code",
   "execution_count": 59,
   "metadata": {},
   "outputs": [
    {
     "data": {
      "text/html": [
       "<div>\n",
       "<style scoped>\n",
       "    .dataframe tbody tr th:only-of-type {\n",
       "        vertical-align: middle;\n",
       "    }\n",
       "\n",
       "    .dataframe tbody tr th {\n",
       "        vertical-align: top;\n",
       "    }\n",
       "\n",
       "    .dataframe thead th {\n",
       "        text-align: right;\n",
       "    }\n",
       "</style>\n",
       "<table border=\"1\" class=\"dataframe\">\n",
       "  <thead>\n",
       "    <tr style=\"text-align: right;\">\n",
       "      <th></th>\n",
       "      <th>D</th>\n",
       "      <th>B</th>\n",
       "      <th>E</th>\n",
       "      <th>A</th>\n",
       "    </tr>\n",
       "  </thead>\n",
       "  <tbody>\n",
       "    <tr>\n",
       "      <th>1</th>\n",
       "      <td>1</td>\n",
       "      <td>2</td>\n",
       "      <td>3</td>\n",
       "      <td>4</td>\n",
       "    </tr>\n",
       "    <tr>\n",
       "      <th>2</th>\n",
       "      <td>6</td>\n",
       "      <td>7</td>\n",
       "      <td>8</td>\n",
       "      <td>9</td>\n",
       "    </tr>\n",
       "  </tbody>\n",
       "</table>\n",
       "</div>"
      ],
      "text/plain": [
       "   D  B  E  A\n",
       "1  1  2  3  4\n",
       "2  6  7  8  9"
      ]
     },
     "metadata": {},
     "output_type": "display_data"
    },
    {
     "data": {
      "text/html": [
       "<div>\n",
       "<style scoped>\n",
       "    .dataframe tbody tr th:only-of-type {\n",
       "        vertical-align: middle;\n",
       "    }\n",
       "\n",
       "    .dataframe tbody tr th {\n",
       "        vertical-align: top;\n",
       "    }\n",
       "\n",
       "    .dataframe thead th {\n",
       "        text-align: right;\n",
       "    }\n",
       "</style>\n",
       "<table border=\"1\" class=\"dataframe\">\n",
       "  <thead>\n",
       "    <tr style=\"text-align: right;\">\n",
       "      <th></th>\n",
       "      <th>A</th>\n",
       "      <th>B</th>\n",
       "      <th>C</th>\n",
       "      <th>D</th>\n",
       "    </tr>\n",
       "  </thead>\n",
       "  <tbody>\n",
       "    <tr>\n",
       "      <th>2</th>\n",
       "      <td>10</td>\n",
       "      <td>20</td>\n",
       "      <td>30</td>\n",
       "      <td>40</td>\n",
       "    </tr>\n",
       "    <tr>\n",
       "      <th>3</th>\n",
       "      <td>60</td>\n",
       "      <td>70</td>\n",
       "      <td>80</td>\n",
       "      <td>90</td>\n",
       "    </tr>\n",
       "    <tr>\n",
       "      <th>4</th>\n",
       "      <td>600</td>\n",
       "      <td>700</td>\n",
       "      <td>800</td>\n",
       "      <td>900</td>\n",
       "    </tr>\n",
       "  </tbody>\n",
       "</table>\n",
       "</div>"
      ],
      "text/plain": [
       "     A    B    C    D\n",
       "2   10   20   30   40\n",
       "3   60   70   80   90\n",
       "4  600  700  800  900"
      ]
     },
     "metadata": {},
     "output_type": "display_data"
    },
    {
     "data": {
      "text/html": [
       "<div>\n",
       "<style scoped>\n",
       "    .dataframe tbody tr th:only-of-type {\n",
       "        vertical-align: middle;\n",
       "    }\n",
       "\n",
       "    .dataframe tbody tr th {\n",
       "        vertical-align: top;\n",
       "    }\n",
       "\n",
       "    .dataframe thead th {\n",
       "        text-align: right;\n",
       "    }\n",
       "</style>\n",
       "<table border=\"1\" class=\"dataframe\">\n",
       "  <thead>\n",
       "    <tr style=\"text-align: right;\">\n",
       "      <th></th>\n",
       "      <th>A</th>\n",
       "      <th>B</th>\n",
       "      <th>C</th>\n",
       "      <th>D</th>\n",
       "      <th>E</th>\n",
       "    </tr>\n",
       "  </thead>\n",
       "  <tbody>\n",
       "    <tr>\n",
       "      <th>1</th>\n",
       "      <td>4</td>\n",
       "      <td>2</td>\n",
       "      <td>NaN</td>\n",
       "      <td>1</td>\n",
       "      <td>3</td>\n",
       "    </tr>\n",
       "    <tr>\n",
       "      <th>2</th>\n",
       "      <td>9</td>\n",
       "      <td>7</td>\n",
       "      <td>NaN</td>\n",
       "      <td>6</td>\n",
       "      <td>8</td>\n",
       "    </tr>\n",
       "  </tbody>\n",
       "</table>\n",
       "</div>"
      ],
      "text/plain": [
       "   A  B   C  D  E\n",
       "1  4  2 NaN  1  3\n",
       "2  9  7 NaN  6  8"
      ]
     },
     "metadata": {},
     "output_type": "display_data"
    },
    {
     "data": {
      "text/html": [
       "<div>\n",
       "<style scoped>\n",
       "    .dataframe tbody tr th:only-of-type {\n",
       "        vertical-align: middle;\n",
       "    }\n",
       "\n",
       "    .dataframe tbody tr th {\n",
       "        vertical-align: top;\n",
       "    }\n",
       "\n",
       "    .dataframe thead th {\n",
       "        text-align: right;\n",
       "    }\n",
       "</style>\n",
       "<table border=\"1\" class=\"dataframe\">\n",
       "  <thead>\n",
       "    <tr style=\"text-align: right;\">\n",
       "      <th></th>\n",
       "      <th>A</th>\n",
       "      <th>B</th>\n",
       "      <th>C</th>\n",
       "      <th>D</th>\n",
       "      <th>E</th>\n",
       "    </tr>\n",
       "  </thead>\n",
       "  <tbody>\n",
       "    <tr>\n",
       "      <th>2</th>\n",
       "      <td>10</td>\n",
       "      <td>20</td>\n",
       "      <td>30</td>\n",
       "      <td>40</td>\n",
       "      <td>NaN</td>\n",
       "    </tr>\n",
       "    <tr>\n",
       "      <th>3</th>\n",
       "      <td>60</td>\n",
       "      <td>70</td>\n",
       "      <td>80</td>\n",
       "      <td>90</td>\n",
       "      <td>NaN</td>\n",
       "    </tr>\n",
       "    <tr>\n",
       "      <th>4</th>\n",
       "      <td>600</td>\n",
       "      <td>700</td>\n",
       "      <td>800</td>\n",
       "      <td>900</td>\n",
       "      <td>NaN</td>\n",
       "    </tr>\n",
       "  </tbody>\n",
       "</table>\n",
       "</div>"
      ],
      "text/plain": [
       "     A    B    C    D   E\n",
       "2   10   20   30   40 NaN\n",
       "3   60   70   80   90 NaN\n",
       "4  600  700  800  900 NaN"
      ]
     },
     "metadata": {},
     "output_type": "display_data"
    }
   ],
   "source": [
    "# align 작동법\n",
    "df1 = pd.DataFrame([[1,2,3,4], [6,7,8,9]], columns=['D', 'B', 'E', 'A'], index=[1,2])\n",
    "df2 = pd.DataFrame([[10,20,30,40], [60,70,80,90], [600,700,800,900]], columns=['A', 'B', 'C', 'D'], index=[2,3,4])\n",
    "\n",
    "display(df1)\n",
    "display(df2)\n",
    "\n",
    "a1, a2 = df1.align(df2, join='outer', axis=1)\n",
    "display(a1)\n",
    "display(a2)\n",
    "\n"
   ]
  },
  {
   "cell_type": "markdown",
   "metadata": {},
   "source": [
    "### 카테고리 데이터의 경우 테스트셋과 트레이닝셋의 One-hot-vector변경시 양쪽 컬럼을 맞추기 위해"
   ]
  },
  {
   "cell_type": "code",
   "execution_count": 62,
   "metadata": {},
   "outputs": [
    {
     "name": "stdout",
     "output_type": "stream",
     "text": [
      "(700, 41)\n"
     ]
    },
    {
     "data": {
      "text/html": [
       "<div>\n",
       "<style scoped>\n",
       "    .dataframe tbody tr th:only-of-type {\n",
       "        vertical-align: middle;\n",
       "    }\n",
       "\n",
       "    .dataframe tbody tr th {\n",
       "        vertical-align: top;\n",
       "    }\n",
       "\n",
       "    .dataframe thead th {\n",
       "        text-align: right;\n",
       "    }\n",
       "</style>\n",
       "<table border=\"1\" class=\"dataframe\">\n",
       "  <thead>\n",
       "    <tr style=\"text-align: right;\">\n",
       "      <th></th>\n",
       "      <th>Status_of_existing_checking_account_A12</th>\n",
       "      <th>Status_of_existing_checking_account_A13</th>\n",
       "      <th>Status_of_existing_checking_account_A14</th>\n",
       "      <th>Credit_history_A31</th>\n",
       "      <th>Credit_history_A32</th>\n",
       "      <th>Credit_history_A33</th>\n",
       "      <th>Credit_history_A34</th>\n",
       "      <th>Purpose_A41</th>\n",
       "      <th>Purpose_A410</th>\n",
       "      <th>Purpose_A42</th>\n",
       "      <th>Purpose_A43</th>\n",
       "      <th>Purpose_A44</th>\n",
       "      <th>Purpose_A45</th>\n",
       "      <th>Purpose_A46</th>\n",
       "      <th>Purpose_A48</th>\n",
       "      <th>Purpose_A49</th>\n",
       "      <th>Savings_account_bonds_A62</th>\n",
       "      <th>Savings_account_bonds_A63</th>\n",
       "      <th>Savings_account_bonds_A64</th>\n",
       "      <th>Savings_account_bonds_A65</th>\n",
       "      <th>Present_employment_since_A72</th>\n",
       "      <th>Present_employment_since_A73</th>\n",
       "      <th>Present_employment_since_A74</th>\n",
       "      <th>Present_employment_since_A75</th>\n",
       "      <th>Personal_status_and_sex_A92</th>\n",
       "      <th>Personal_status_and_sex_A93</th>\n",
       "      <th>Personal_status_and_sex_A94</th>\n",
       "      <th>Other_debtors_guarantors_A102</th>\n",
       "      <th>Other_debtors_guarantors_A103</th>\n",
       "      <th>Property_A122</th>\n",
       "      <th>Property_A123</th>\n",
       "      <th>Property_A124</th>\n",
       "      <th>Other_installment_plans_A142</th>\n",
       "      <th>Other_installment_plans_A143</th>\n",
       "      <th>Housing_A152</th>\n",
       "      <th>Housing_A153</th>\n",
       "      <th>Job_A172</th>\n",
       "      <th>Job_A173</th>\n",
       "      <th>Job_A174</th>\n",
       "      <th>Telephone_A192</th>\n",
       "      <th>foreign_worker_A202</th>\n",
       "    </tr>\n",
       "  </thead>\n",
       "  <tbody>\n",
       "    <tr>\n",
       "      <th>541</th>\n",
       "      <td>0</td>\n",
       "      <td>0</td>\n",
       "      <td>1</td>\n",
       "      <td>0</td>\n",
       "      <td>0</td>\n",
       "      <td>1</td>\n",
       "      <td>0</td>\n",
       "      <td>0</td>\n",
       "      <td>0</td>\n",
       "      <td>0</td>\n",
       "      <td>0</td>\n",
       "      <td>0</td>\n",
       "      <td>0</td>\n",
       "      <td>0</td>\n",
       "      <td>0</td>\n",
       "      <td>0</td>\n",
       "      <td>0</td>\n",
       "      <td>0</td>\n",
       "      <td>0</td>\n",
       "      <td>0</td>\n",
       "      <td>0</td>\n",
       "      <td>0</td>\n",
       "      <td>0</td>\n",
       "      <td>1</td>\n",
       "      <td>0</td>\n",
       "      <td>1</td>\n",
       "      <td>0</td>\n",
       "      <td>0</td>\n",
       "      <td>0</td>\n",
       "      <td>0</td>\n",
       "      <td>0</td>\n",
       "      <td>1</td>\n",
       "      <td>0</td>\n",
       "      <td>1</td>\n",
       "      <td>0</td>\n",
       "      <td>1</td>\n",
       "      <td>0</td>\n",
       "      <td>1</td>\n",
       "      <td>0</td>\n",
       "      <td>1</td>\n",
       "      <td>0</td>\n",
       "    </tr>\n",
       "  </tbody>\n",
       "</table>\n",
       "</div>"
      ],
      "text/plain": [
       "     Status_of_existing_checking_account_A12  \\\n",
       "541                                        0   \n",
       "\n",
       "     Status_of_existing_checking_account_A13  \\\n",
       "541                                        0   \n",
       "\n",
       "     Status_of_existing_checking_account_A14  Credit_history_A31  \\\n",
       "541                                        1                   0   \n",
       "\n",
       "     Credit_history_A32  Credit_history_A33  Credit_history_A34  Purpose_A41  \\\n",
       "541                   0                   1                   0            0   \n",
       "\n",
       "     Purpose_A410  Purpose_A42  Purpose_A43  Purpose_A44  Purpose_A45  \\\n",
       "541             0            0            0            0            0   \n",
       "\n",
       "     Purpose_A46  Purpose_A48  Purpose_A49  Savings_account_bonds_A62  \\\n",
       "541            0            0            0                          0   \n",
       "\n",
       "     Savings_account_bonds_A63  Savings_account_bonds_A64  \\\n",
       "541                          0                          0   \n",
       "\n",
       "     Savings_account_bonds_A65  Present_employment_since_A72  \\\n",
       "541                          0                             0   \n",
       "\n",
       "     Present_employment_since_A73  Present_employment_since_A74  \\\n",
       "541                             0                             0   \n",
       "\n",
       "     Present_employment_since_A75  Personal_status_and_sex_A92  \\\n",
       "541                             1                            0   \n",
       "\n",
       "     Personal_status_and_sex_A93  Personal_status_and_sex_A94  \\\n",
       "541                            1                            0   \n",
       "\n",
       "     Other_debtors_guarantors_A102  Other_debtors_guarantors_A103  \\\n",
       "541                              0                              0   \n",
       "\n",
       "     Property_A122  Property_A123  Property_A124  \\\n",
       "541              0              0              1   \n",
       "\n",
       "     Other_installment_plans_A142  Other_installment_plans_A143  Housing_A152  \\\n",
       "541                             0                             1             0   \n",
       "\n",
       "     Housing_A153  Job_A172  Job_A173  Job_A174  Telephone_A192  \\\n",
       "541             1         0         1         0               1   \n",
       "\n",
       "     foreign_worker_A202  \n",
       "541                    0  "
      ]
     },
     "execution_count": 62,
     "metadata": {},
     "output_type": "execute_result"
    }
   ],
   "source": [
    "train_cat_features = pd.get_dummies(train_set[cate_features], drop_first=True)\n",
    "print(train_cat_features.shape)\n",
    "train_cat_features.head(1)"
   ]
  },
  {
   "cell_type": "code",
   "execution_count": 66,
   "metadata": {},
   "outputs": [
    {
     "name": "stdout",
     "output_type": "stream",
     "text": [
      "(300, 41)\n"
     ]
    },
    {
     "data": {
      "text/html": [
       "<div>\n",
       "<style scoped>\n",
       "    .dataframe tbody tr th:only-of-type {\n",
       "        vertical-align: middle;\n",
       "    }\n",
       "\n",
       "    .dataframe tbody tr th {\n",
       "        vertical-align: top;\n",
       "    }\n",
       "\n",
       "    .dataframe thead th {\n",
       "        text-align: right;\n",
       "    }\n",
       "</style>\n",
       "<table border=\"1\" class=\"dataframe\">\n",
       "  <thead>\n",
       "    <tr style=\"text-align: right;\">\n",
       "      <th></th>\n",
       "      <th>Status_of_existing_checking_account_A12</th>\n",
       "      <th>Status_of_existing_checking_account_A13</th>\n",
       "      <th>Status_of_existing_checking_account_A14</th>\n",
       "      <th>Credit_history_A31</th>\n",
       "      <th>Credit_history_A32</th>\n",
       "      <th>Credit_history_A33</th>\n",
       "      <th>Credit_history_A34</th>\n",
       "      <th>Purpose_A41</th>\n",
       "      <th>Purpose_A410</th>\n",
       "      <th>Purpose_A42</th>\n",
       "      <th>Purpose_A43</th>\n",
       "      <th>Purpose_A44</th>\n",
       "      <th>Purpose_A45</th>\n",
       "      <th>Purpose_A46</th>\n",
       "      <th>Purpose_A48</th>\n",
       "      <th>Purpose_A49</th>\n",
       "      <th>Savings_account_bonds_A62</th>\n",
       "      <th>Savings_account_bonds_A63</th>\n",
       "      <th>Savings_account_bonds_A64</th>\n",
       "      <th>Savings_account_bonds_A65</th>\n",
       "      <th>Present_employment_since_A72</th>\n",
       "      <th>Present_employment_since_A73</th>\n",
       "      <th>Present_employment_since_A74</th>\n",
       "      <th>Present_employment_since_A75</th>\n",
       "      <th>Personal_status_and_sex_A92</th>\n",
       "      <th>Personal_status_and_sex_A93</th>\n",
       "      <th>Personal_status_and_sex_A94</th>\n",
       "      <th>Other_debtors_guarantors_A102</th>\n",
       "      <th>Other_debtors_guarantors_A103</th>\n",
       "      <th>Property_A122</th>\n",
       "      <th>Property_A123</th>\n",
       "      <th>Property_A124</th>\n",
       "      <th>Other_installment_plans_A142</th>\n",
       "      <th>Other_installment_plans_A143</th>\n",
       "      <th>Housing_A152</th>\n",
       "      <th>Housing_A153</th>\n",
       "      <th>Job_A172</th>\n",
       "      <th>Job_A173</th>\n",
       "      <th>Job_A174</th>\n",
       "      <th>Telephone_A192</th>\n",
       "      <th>foreign_worker_A202</th>\n",
       "    </tr>\n",
       "  </thead>\n",
       "  <tbody>\n",
       "    <tr>\n",
       "      <th>521</th>\n",
       "      <td>0</td>\n",
       "      <td>0</td>\n",
       "      <td>0</td>\n",
       "      <td>0</td>\n",
       "      <td>1</td>\n",
       "      <td>0</td>\n",
       "      <td>0</td>\n",
       "      <td>0</td>\n",
       "      <td>0</td>\n",
       "      <td>0</td>\n",
       "      <td>1</td>\n",
       "      <td>0</td>\n",
       "      <td>0</td>\n",
       "      <td>0</td>\n",
       "      <td>0</td>\n",
       "      <td>0</td>\n",
       "      <td>0</td>\n",
       "      <td>0</td>\n",
       "      <td>0</td>\n",
       "      <td>0</td>\n",
       "      <td>0</td>\n",
       "      <td>1</td>\n",
       "      <td>0</td>\n",
       "      <td>0</td>\n",
       "      <td>1</td>\n",
       "      <td>0</td>\n",
       "      <td>0</td>\n",
       "      <td>0</td>\n",
       "      <td>0</td>\n",
       "      <td>0</td>\n",
       "      <td>0</td>\n",
       "      <td>0</td>\n",
       "      <td>0</td>\n",
       "      <td>1</td>\n",
       "      <td>1</td>\n",
       "      <td>0</td>\n",
       "      <td>0</td>\n",
       "      <td>1</td>\n",
       "      <td>0</td>\n",
       "      <td>0</td>\n",
       "      <td>0</td>\n",
       "    </tr>\n",
       "  </tbody>\n",
       "</table>\n",
       "</div>"
      ],
      "text/plain": [
       "     Status_of_existing_checking_account_A12  \\\n",
       "521                                        0   \n",
       "\n",
       "     Status_of_existing_checking_account_A13  \\\n",
       "521                                        0   \n",
       "\n",
       "     Status_of_existing_checking_account_A14  Credit_history_A31  \\\n",
       "521                                        0                   0   \n",
       "\n",
       "     Credit_history_A32  Credit_history_A33  Credit_history_A34  Purpose_A41  \\\n",
       "521                   1                   0                   0            0   \n",
       "\n",
       "     Purpose_A410  Purpose_A42  Purpose_A43  Purpose_A44  Purpose_A45  \\\n",
       "521             0            0            1            0            0   \n",
       "\n",
       "     Purpose_A46  Purpose_A48  Purpose_A49  Savings_account_bonds_A62  \\\n",
       "521            0            0            0                          0   \n",
       "\n",
       "     Savings_account_bonds_A63  Savings_account_bonds_A64  \\\n",
       "521                          0                          0   \n",
       "\n",
       "     Savings_account_bonds_A65  Present_employment_since_A72  \\\n",
       "521                          0                             0   \n",
       "\n",
       "     Present_employment_since_A73  Present_employment_since_A74  \\\n",
       "521                             1                             0   \n",
       "\n",
       "     Present_employment_since_A75  Personal_status_and_sex_A92  \\\n",
       "521                             0                            1   \n",
       "\n",
       "     Personal_status_and_sex_A93  Personal_status_and_sex_A94  \\\n",
       "521                            0                            0   \n",
       "\n",
       "     Other_debtors_guarantors_A102  Other_debtors_guarantors_A103  \\\n",
       "521                              0                              0   \n",
       "\n",
       "     Property_A122  Property_A123  Property_A124  \\\n",
       "521              0              0              0   \n",
       "\n",
       "     Other_installment_plans_A142  Other_installment_plans_A143  Housing_A152  \\\n",
       "521                             0                             1             1   \n",
       "\n",
       "     Housing_A153  Job_A172  Job_A173  Job_A174  Telephone_A192  \\\n",
       "521             0         0         1         0               0   \n",
       "\n",
       "     foreign_worker_A202  \n",
       "521                    0  "
      ]
     },
     "execution_count": 66,
     "metadata": {},
     "output_type": "execute_result"
    }
   ],
   "source": [
    "test_cat_features = pd.get_dummies(test_set[cate_features],drop_first=True)\n",
    "print(test_cat_features.shape)\n",
    "test_cat_features.head(1)"
   ]
  },
  {
   "cell_type": "code",
   "execution_count": 67,
   "metadata": {},
   "outputs": [],
   "source": [
    "train_cat_features, test_cat_features = \\\n",
    "    train_cat_features.align(test_cat_features, join='outer', axis=1, fill_value=0)"
   ]
  },
  {
   "cell_type": "code",
   "execution_count": 68,
   "metadata": {},
   "outputs": [
    {
     "name": "stdout",
     "output_type": "stream",
     "text": [
      "(700, 54)\n",
      "(300, 54)\n"
     ]
    }
   ],
   "source": [
    "print(train_cat_features.shape)\n",
    "print(test_cat_features.shape)"
   ]
  },
  {
   "cell_type": "code",
   "execution_count": 69,
   "metadata": {},
   "outputs": [
    {
     "name": "stdout",
     "output_type": "stream",
     "text": [
      "(700, 61)\n",
      "(300, 61)\n",
      "(700,)\n",
      "(300,)\n"
     ]
    }
   ],
   "source": [
    "train_x = np.c_[train_scaled_num_features, train_cat_features]\n",
    "test_x = np.c_[test_scaled_num_features, test_cat_features]\n",
    "train_y = train_set['Target']\n",
    "test_y = test_set['Target']\n",
    "print(train_x.shape)\n",
    "print(test_x.shape)\n",
    "print(train_y.shape)\n",
    "print(test_y.shape)"
   ]
  },
  {
   "cell_type": "code",
   "execution_count": 70,
   "metadata": {},
   "outputs": [],
   "source": [
    "from sklearn.linear_model import LogisticRegression"
   ]
  },
  {
   "cell_type": "code",
   "execution_count": 71,
   "metadata": {},
   "outputs": [],
   "source": [
    "logistic = LogisticRegression(random_state=42)"
   ]
  },
  {
   "cell_type": "code",
   "execution_count": 72,
   "metadata": {},
   "outputs": [
    {
     "name": "stderr",
     "output_type": "stream",
     "text": [
      "/home/skkucman/.local/lib/python3.6/site-packages/sklearn/linear_model/logistic.py:433: FutureWarning: Default solver will be changed to 'lbfgs' in 0.22. Specify a solver to silence this warning.\n",
      "  FutureWarning)\n",
      "/home/skkucman/.local/lib/python3.6/site-packages/sklearn/linear_model/logistic.py:433: FutureWarning: Default solver will be changed to 'lbfgs' in 0.22. Specify a solver to silence this warning.\n",
      "  FutureWarning)\n",
      "/home/skkucman/.local/lib/python3.6/site-packages/sklearn/linear_model/logistic.py:433: FutureWarning: Default solver will be changed to 'lbfgs' in 0.22. Specify a solver to silence this warning.\n",
      "  FutureWarning)\n"
     ]
    },
    {
     "data": {
      "text/plain": [
       "array([0.73931624, 0.6965812 , 0.72413793])"
      ]
     },
     "execution_count": 72,
     "metadata": {},
     "output_type": "execute_result"
    }
   ],
   "source": [
    "from sklearn.model_selection import cross_val_score\n",
    "cross_val_score(logistic, train_x, train_y, cv=3, scoring='accuracy')"
   ]
  },
  {
   "cell_type": "code",
   "execution_count": 75,
   "metadata": {},
   "outputs": [
    {
     "name": "stderr",
     "output_type": "stream",
     "text": [
      "/home/skkucman/.local/lib/python3.6/site-packages/sklearn/linear_model/logistic.py:433: FutureWarning: Default solver will be changed to 'lbfgs' in 0.22. Specify a solver to silence this warning.\n",
      "  FutureWarning)\n",
      "/home/skkucman/.local/lib/python3.6/site-packages/sklearn/linear_model/logistic.py:433: FutureWarning: Default solver will be changed to 'lbfgs' in 0.22. Specify a solver to silence this warning.\n",
      "  FutureWarning)\n",
      "/home/skkucman/.local/lib/python3.6/site-packages/sklearn/linear_model/logistic.py:433: FutureWarning: Default solver will be changed to 'lbfgs' in 0.22. Specify a solver to silence this warning.\n",
      "  FutureWarning)\n"
     ]
    }
   ],
   "source": [
    "from sklearn.model_selection import cross_val_predict\n",
    "\n",
    "pred_train_y = cross_val_predict(logistic, train_x, train_y, cv=3)"
   ]
  },
  {
   "cell_type": "code",
   "execution_count": 77,
   "metadata": {},
   "outputs": [
    {
     "name": "stderr",
     "output_type": "stream",
     "text": [
      "/home/skkucman/.local/lib/python3.6/site-packages/sklearn/linear_model/logistic.py:433: FutureWarning: Default solver will be changed to 'lbfgs' in 0.22. Specify a solver to silence this warning.\n",
      "  FutureWarning)\n",
      "/home/skkucman/.local/lib/python3.6/site-packages/sklearn/linear_model/logistic.py:433: FutureWarning: Default solver will be changed to 'lbfgs' in 0.22. Specify a solver to silence this warning.\n",
      "  FutureWarning)\n",
      "/home/skkucman/.local/lib/python3.6/site-packages/sklearn/linear_model/logistic.py:433: FutureWarning: Default solver will be changed to 'lbfgs' in 0.22. Specify a solver to silence this warning.\n",
      "  FutureWarning)\n"
     ]
    }
   ],
   "source": [
    "from sklearn.model_selection import cross_val_predict\n",
    "\n",
    "pred_train_y = cross_val_predict(logistic, train_x, train_y, cv=3)"
   ]
  },
  {
   "cell_type": "code",
   "execution_count": 78,
   "metadata": {},
   "outputs": [
    {
     "name": "stdout",
     "output_type": "stream",
     "text": [
      "Precision : 0.543046357615894\n",
      "Recall : 0.3923444976076555\n"
     ]
    }
   ],
   "source": [
    "from sklearn.metrics import precision_score, recall_score\n",
    "\n",
    "precision = precision_score(train_y, pred_train_y)\n",
    "recall = recall_score(train_y, pred_train_y)\n",
    "print('Precision :', precision)\n",
    "print('Recall :', recall)"
   ]
  },
  {
   "cell_type": "code",
   "execution_count": 79,
   "metadata": {},
   "outputs": [
    {
     "name": "stderr",
     "output_type": "stream",
     "text": [
      "/home/skkucman/.local/lib/python3.6/site-packages/sklearn/linear_model/logistic.py:433: FutureWarning: Default solver will be changed to 'lbfgs' in 0.22. Specify a solver to silence this warning.\n",
      "  FutureWarning)\n",
      "/home/skkucman/.local/lib/python3.6/site-packages/sklearn/linear_model/logistic.py:433: FutureWarning: Default solver will be changed to 'lbfgs' in 0.22. Specify a solver to silence this warning.\n",
      "  FutureWarning)\n",
      "/home/skkucman/.local/lib/python3.6/site-packages/sklearn/linear_model/logistic.py:433: FutureWarning: Default solver will be changed to 'lbfgs' in 0.22. Specify a solver to silence this warning.\n",
      "  FutureWarning)\n"
     ]
    }
   ],
   "source": [
    "y_scores = cross_val_predict(logistic, train_x, train_y, cv=3, method='predict_proba') "
   ]
  },
  {
   "cell_type": "code",
   "execution_count": 80,
   "metadata": {},
   "outputs": [
    {
     "data": {
      "text/plain": [
       "array([[0.78996217, 0.21003783],\n",
       "       [0.88143696, 0.11856304],\n",
       "       [0.60844113, 0.39155887],\n",
       "       [0.89804317, 0.10195683],\n",
       "       [0.96898155, 0.03101845]])"
      ]
     },
     "execution_count": 80,
     "metadata": {},
     "output_type": "execute_result"
    }
   ],
   "source": [
    "y_scores[:5]"
   ]
  },
  {
   "cell_type": "code",
   "execution_count": 81,
   "metadata": {},
   "outputs": [],
   "source": [
    "from sklearn.metrics import precision_recall_curve\n",
    "\n",
    "# 1의 확률만 넣기 위하여 y_scores[:, 1]를 사용합니다.\n",
    "precisions, recalls, thresholds = precision_recall_curve(train_y, y_scores[:,1])"
   ]
  },
  {
   "cell_type": "code",
   "execution_count": 83,
   "metadata": {},
   "outputs": [],
   "source": [
    "import numpy as np\n",
    "import matplotlib.pyplot as plt"
   ]
  },
  {
   "cell_type": "code",
   "execution_count": 84,
   "metadata": {},
   "outputs": [
    {
     "data": {
      "image/png": "[encoded data removed]",
      "text/plain": [
       "<Figure size 432x288 with 1 Axes>"
      ]
     },
     "metadata": {
      "needs_background": "light"
     },
     "output_type": "display_data"
    }
   ],
   "source": [
    "def plot_precision_recall_vs_threshold(precisions, recalls, thresholds):\n",
    "    plt.plot(thresholds, precisions[:-1], 'b--', label='Precision')\n",
    "    plt.plot(thresholds, recalls[:-1], 'g-', label='Recall')\n",
    "    plt.xlabel('Thresholds')\n",
    "    plt.legend(loc='lower left')\n",
    "    plt.ylim([0, 1])\n",
    "\n",
    "plot_precision_recall_vs_threshold(precisions, recalls, thresholds)\n",
    "plt.show()"
   ]
  },
  {
   "cell_type": "code",
   "execution_count": 85,
   "metadata": {},
   "outputs": [
    {
     "name": "stderr",
     "output_type": "stream",
     "text": [
      "/home/skkucman/.local/lib/python3.6/site-packages/sklearn/linear_model/logistic.py:433: FutureWarning: Default solver will be changed to 'lbfgs' in 0.22. Specify a solver to silence this warning.\n",
      "  FutureWarning)\n"
     ]
    },
    {
     "data": {
      "text/plain": [
       "LogisticRegression(C=1.0, class_weight=None, dual=False, fit_intercept=True,\n",
       "          intercept_scaling=1, max_iter=100, multi_class='warn',\n",
       "          n_jobs=None, penalty='l2', random_state=42, solver='warn',\n",
       "          tol=0.0001, verbose=0, warm_start=False)"
      ]
     },
     "execution_count": 85,
     "metadata": {},
     "output_type": "execute_result"
    }
   ],
   "source": [
    "logistic.fit(train_x, train_y)"
   ]
  },
  {
   "cell_type": "code",
   "execution_count": 86,
   "metadata": {},
   "outputs": [],
   "source": [
    "from sklearn.metrics import accuracy_score, classification_report, confusion_matrix"
   ]
  },
  {
   "cell_type": "code",
   "execution_count": 87,
   "metadata": {},
   "outputs": [
    {
     "name": "stdout",
     "output_type": "stream",
     "text": [
      "Accuracy : 0.7833333333333333\n"
     ]
    }
   ],
   "source": [
    "accuracy = accuracy_score(logistic.predict(test_x), test_y)\n",
    "print('Accuracy :', accuracy)"
   ]
  },
  {
   "cell_type": "code",
   "execution_count": 88,
   "metadata": {},
   "outputs": [
    {
     "name": "stdout",
     "output_type": "stream",
     "text": [
      "              precision    recall  f1-score   support\n",
      "\n",
      "           0       0.80      0.91      0.85       209\n",
      "           1       0.71      0.48      0.58        91\n",
      "\n",
      "   micro avg       0.78      0.78      0.78       300\n",
      "   macro avg       0.76      0.70      0.71       300\n",
      "weighted avg       0.77      0.78      0.77       300\n",
      "\n"
     ]
    }
   ],
   "source": [
    "print(classification_report(test_y, logistic.predict(test_x)))"
   ]
  },
  {
   "cell_type": "code",
   "execution_count": 89,
   "metadata": {},
   "outputs": [
    {
     "data": {
      "text/html": [
       "<div>\n",
       "<style scoped>\n",
       "    .dataframe tbody tr th:only-of-type {\n",
       "        vertical-align: middle;\n",
       "    }\n",
       "\n",
       "    .dataframe tbody tr th {\n",
       "        vertical-align: top;\n",
       "    }\n",
       "\n",
       "    .dataframe thead th {\n",
       "        text-align: right;\n",
       "    }\n",
       "</style>\n",
       "<table border=\"1\" class=\"dataframe\">\n",
       "  <thead>\n",
       "    <tr style=\"text-align: right;\">\n",
       "      <th>Actual</th>\n",
       "      <th>0</th>\n",
       "      <th>1</th>\n",
       "      <th>All</th>\n",
       "    </tr>\n",
       "    <tr>\n",
       "      <th>Predict</th>\n",
       "      <th></th>\n",
       "      <th></th>\n",
       "      <th></th>\n",
       "    </tr>\n",
       "  </thead>\n",
       "  <tbody>\n",
       "    <tr>\n",
       "      <th>0</th>\n",
       "      <td>191</td>\n",
       "      <td>47</td>\n",
       "      <td>238</td>\n",
       "    </tr>\n",
       "    <tr>\n",
       "      <th>1</th>\n",
       "      <td>18</td>\n",
       "      <td>44</td>\n",
       "      <td>62</td>\n",
       "    </tr>\n",
       "    <tr>\n",
       "      <th>All</th>\n",
       "      <td>209</td>\n",
       "      <td>91</td>\n",
       "      <td>300</td>\n",
       "    </tr>\n",
       "  </tbody>\n",
       "</table>\n",
       "</div>"
      ],
      "text/plain": [
       "Actual     0   1  All\n",
       "Predict              \n",
       "0        191  47  238\n",
       "1         18  44   62\n",
       "All      209  91  300"
      ]
     },
     "execution_count": 89,
     "metadata": {},
     "output_type": "execute_result"
    }
   ],
   "source": [
    "pd.crosstab(logistic.predict(test_x), test_y, \n",
    "            rownames=['Predict'], colnames=['Actual'], margins=True)"
   ]
  },
  {
   "cell_type": "code",
   "execution_count": 90,
   "metadata": {},
   "outputs": [
    {
     "data": {
      "text/plain": [
       "array([[0.61492601, 0.38507399],\n",
       "       [0.50184087, 0.49815913],\n",
       "       [0.39497356, 0.60502644],\n",
       "       [0.70487598, 0.29512402],\n",
       "       [0.94620022, 0.05379978],\n",
       "       [0.65980966, 0.34019034],\n",
       "       [0.92808692, 0.07191308],\n",
       "       [0.57912408, 0.42087592],\n",
       "       [0.95423086, 0.04576914],\n",
       "       [0.94978428, 0.05021572]])"
      ]
     },
     "execution_count": 90,
     "metadata": {},
     "output_type": "execute_result"
    }
   ],
   "source": [
    "logistic.predict_proba(test_x)[:10]"
   ]
  },
  {
   "cell_type": "markdown",
   "metadata": {},
   "source": [
    " $s_k(x)=(\\theta^{(k)})^Tx$\n",
    " \n",
    " 1\\b\n",
    " $x\n",
    " \n",
    " 1            C_1\n",
    " \n",
    "$ x_1          C_2\n",
    " \n",
    " x_2          C_3\n",
    " theta\n",
    " S1(x) = theta_10+theta_11x_1+theta_12 X_2\n",
    " S2(x) = theta_20+theta_21x_1+theta_22 X_2\n",
    " S3(x) = .....\n",
    " \n",
    " \n",
    " \n",
    "Hat(P)_k = exp(s_k(X))/(sigma(j=1 to K) (S_j(X))"
   ]
  },
  {
   "cell_type": "markdown",
   "metadata": {},
   "source": [
    "## cross-val-predict CV3의 경우 각 V셋의 predict로 전체 셋 구성\n",
    "## cross-val-score Cv3의 각 V셋의 Predict 후 각 CV_k에 대한 평 및 std비교\n",
    "\n",
    "로지스틱에서 Loss Fuction\n",
    "1. 오류율\n",
    "2. Cross Entrop\n",
    " 2번에서 Cross Entropy를 구하기 위해 소프트맥스 함수의 log의 식\n",
    " softㅡㅁ"
   ]
  },
  {
   "cell_type": "code",
   "execution_count": 92,
   "metadata": {},
   "outputs": [
    {
     "data": {
      "text/plain": [
       "['data', 'target', 'target_names', 'DESCR', 'feature_names', 'filename']"
      ]
     },
     "execution_count": 92,
     "metadata": {},
     "output_type": "execute_result"
    }
   ],
   "source": [
    "from sklearn import datasets\n",
    "iris = datasets.load_iris()\n",
    "\n",
    "# 데이터셋의 내부구조를 보려면..\n",
    "list(iris.keys())"
   ]
  },
  {
   "cell_type": "code",
   "execution_count": 93,
   "metadata": {},
   "outputs": [],
   "source": [
    "X = iris[\"data\"][:, (2, 3)]  # petal length, petal width\n",
    "y = iris[\"target\"]"
   ]
  },
  {
   "cell_type": "code",
   "execution_count": 94,
   "metadata": {},
   "outputs": [],
   "source": [
    "# Softmax classifier의 동작을 살펴보기 위하여, scaling은 우선 무시 (데이터의 양도 적다.)\n",
    "train_x, test_x, train_y, test_y = train_test_split(X, y, test_size = 0.3, random_state=42)"
   ]
  },
  {
   "cell_type": "code",
   "execution_count": 95,
   "metadata": {},
   "outputs": [
    {
     "data": {
      "text/plain": [
       "array([[3.7, 1. ],\n",
       "       [5.1, 1.5],\n",
       "       [5.5, 1.8]])"
      ]
     },
     "execution_count": 95,
     "metadata": {},
     "output_type": "execute_result"
    }
   ],
   "source": [
    "train_x[:3]"
   ]
  },
  {
   "cell_type": "code",
   "execution_count": 96,
   "metadata": {},
   "outputs": [
    {
     "data": {
      "text/plain": [
       "array([1, 2, 2])"
      ]
     },
     "execution_count": 96,
     "metadata": {},
     "output_type": "execute_result"
    }
   ],
   "source": [
    "train_y[:3]"
   ]
  },
  {
   "cell_type": "code",
   "execution_count": 97,
   "metadata": {},
   "outputs": [
    {
     "data": {
      "text/plain": [
       "LogisticRegression(C=10, class_weight=None, dual=False, fit_intercept=True,\n",
       "          intercept_scaling=1, max_iter=100, multi_class='multinomial',\n",
       "          n_jobs=None, penalty='l2', random_state=42, solver='lbfgs',\n",
       "          tol=0.0001, verbose=0, warm_start=False)"
      ]
     },
     "execution_count": 97,
     "metadata": {},
     "output_type": "execute_result"
    }
   ],
   "source": [
    "softmax_reg = LogisticRegression(multi_class=\"multinomial\",solver=\"lbfgs\", C=10, random_state=42)\n",
    "softmax_reg.fit(train_x, train_y)"
   ]
  },
  {
   "cell_type": "code",
   "execution_count": 98,
   "metadata": {},
   "outputs": [
    {
     "data": {
      "text/plain": [
       "0.9523809523809523"
      ]
     },
     "execution_count": 98,
     "metadata": {},
     "output_type": "execute_result"
    }
   ],
   "source": [
    "accuracy_score(train_y, softmax_reg.predict(train_x))"
   ]
  },
  {
   "cell_type": "code",
   "execution_count": 99,
   "metadata": {},
   "outputs": [
    {
     "data": {
      "text/plain": [
       "[<matplotlib.lines.Line2D at 0x7feba6a66780>]"
      ]
     },
     "execution_count": 99,
     "metadata": {},
     "output_type": "execute_result"
    },
    {
     "data": {
      "image/png": "[encoded data removed]",
      "text/plain": [
       "<Figure size 432x288 with 1 Axes>"
      ]
     },
     "metadata": {
      "needs_background": "light"
     },
     "output_type": "display_data"
    }
   ],
   "source": [
    "plt.plot(train_x[train_y==2, 0], train_x[train_y==2, 1], \"g^\", label=\"Iris-Virginica\")\n",
    "plt.plot(train_x[train_y==1, 0], train_x[train_y==1, 1], \"bs\", label=\"Iris-Versicolor\")\n",
    "plt.plot(train_x[train_y==0, 0], train_x[train_y==0, 1], \"yo\", label=\"Iris-Setosa\")"
   ]
  },
  {
   "cell_type": "code",
   "execution_count": 100,
   "metadata": {},
   "outputs": [
    {
     "data": {
      "text/plain": [
       "1.0"
      ]
     },
     "execution_count": 100,
     "metadata": {},
     "output_type": "execute_result"
    }
   ],
   "source": [
    "accuracy_score(test_y, softmax_reg.predict(test_x))"
   ]
  },
  {
   "cell_type": "code",
   "execution_count": 101,
   "metadata": {},
   "outputs": [
    {
     "data": {
      "text/plain": [
       "[<matplotlib.lines.Line2D at 0x7feba6e64860>]"
      ]
     },
     "execution_count": 101,
     "metadata": {},
     "output_type": "execute_result"
    },
    {
     "data": {
      "image/png": "[encoded data removed]",
      "text/plain": [
       "<Figure size 432x288 with 1 Axes>"
      ]
     },
     "metadata": {
      "needs_background": "light"
     },
     "output_type": "display_data"
    }
   ],
   "source": [
    "plt.plot(test_x[test_y==2, 0], test_x[test_y==2, 1], \"g^\", label=\"Iris-Virginica\")\n",
    "plt.plot(test_x[test_y==1, 0], test_x[test_y==1, 1], \"bs\", label=\"Iris-Versicolor\")\n",
    "plt.plot(test_x[test_y==0, 0], test_x[test_y==0, 1], \"yo\", label=\"Iris-Setosa\")"
   ]
  },
  {
   "cell_type": "code",
   "execution_count": 102,
   "metadata": {},
   "outputs": [
    {
     "data": {
      "text/plain": [
       "array([3.7, 1. ])"
      ]
     },
     "execution_count": 102,
     "metadata": {},
     "output_type": "execute_result"
    }
   ],
   "source": [
    "sample = train_x[0]\n",
    "sample"
   ]
  },
  {
   "cell_type": "code",
   "execution_count": 103,
   "metadata": {},
   "outputs": [
    {
     "name": "stdout",
     "output_type": "stream",
     "text": [
      "Sample이 속한 클래스 : 1\n"
     ]
    }
   ],
   "source": [
    "print('Sample이 속한 클래스 :', train_y[0])"
   ]
  },
  {
   "cell_type": "code",
   "execution_count": 104,
   "metadata": {},
   "outputs": [
    {
     "data": {
      "text/plain": [
       "array([[-4.20766609, -2.03386207],\n",
       "       [ 0.2548296 , -1.76288787],\n",
       "       [ 3.95283649,  3.79674994]])"
      ]
     },
     "execution_count": 104,
     "metadata": {},
     "output_type": "execute_result"
    }
   ],
   "source": [
    "softmax_reg.coef_"
   ]
  },
  {
   "cell_type": "code",
   "execution_count": 105,
   "metadata": {},
   "outputs": [],
   "source": [
    "class_0_theta = softmax_reg.coef_[0]\n",
    "class_1_theta = softmax_reg.coef_[1]\n",
    "class_2_theta = softmax_reg.coef_[2]"
   ]
  },
  {
   "cell_type": "code",
   "execution_count": 106,
   "metadata": {},
   "outputs": [
    {
     "data": {
      "text/plain": [
       "array([ 16.87489499,   5.12511697, -22.00001196])"
      ]
     },
     "execution_count": 106,
     "metadata": {},
     "output_type": "execute_result"
    }
   ],
   "source": [
    "softmax_reg.intercept_"
   ]
  },
  {
   "cell_type": "code",
   "execution_count": 107,
   "metadata": {},
   "outputs": [],
   "source": [
    "a = np.dot(class_0_theta, sample) + softmax_reg.intercept_[0]\n",
    "b = np.dot(class_1_theta, sample) + softmax_reg.intercept_[1]\n",
    "c = np.dot(class_2_theta, sample) + softmax_reg.intercept_[2]"
   ]
  },
  {
   "cell_type": "code",
   "execution_count": 108,
   "metadata": {},
   "outputs": [
    {
     "name": "stdout",
     "output_type": "stream",
     "text": [
      "첫번째 클래스의 소프트맥스 점수 : -0.7273316266552214\n",
      "두번째 클래스의 소프트맥스 점수 : 4.30509861767149\n",
      "세번째 클래스의 소프트맥스 점수 : -3.5777669910174623\n"
     ]
    }
   ],
   "source": [
    "print('첫번째 클래스의 소프트맥스 점수 :', a)\n",
    "print('두번째 클래스의 소프트맥스 점수 :', b)\n",
    "print('세번째 클래스의 소프트맥스 점수 :', c)"
   ]
  },
  {
   "cell_type": "code",
   "execution_count": 111,
   "metadata": {},
   "outputs": [
    {
     "data": {
      "text/plain": [
       "array([-0.72733163,  4.30509862, -3.57776699])"
      ]
     },
     "execution_count": 111,
     "metadata": {},
     "output_type": "execute_result"
    }
   ],
   "source": [
    "# Softmax classifier에서 해당값을 찾아볼수 있다.\n",
    "softmax_reg.decision_function(train_x)[0]"
   ]
  },
  {
   "cell_type": "code",
   "execution_count": 112,
   "metadata": {},
   "outputs": [
    {
     "name": "stdout",
     "output_type": "stream",
     "text": [
      "첫번째 클래스의 소프트맥스 값 : 0.006478238530079108\n",
      "두번째 클래스의 소프트맥스 값 : 0.9931471952699612\n",
      "세번째 클래스의 소프트맥스 값 : 0.00037456619995968597\n"
     ]
    }
   ],
   "source": [
    "# 직접 구해보는 것\n",
    "print('첫번째 클래스의 소프트맥스 값 :', np.exp(a) / (np.exp(a) + np.exp(b) + np.exp(c)))\n",
    "print('두번째 클래스의 소프트맥스 값 :', np.exp(b) / (np.exp(a) + np.exp(b) + np.exp(c)))\n",
    "print('세번째 클래스의 소프트맥스 값 :', np.exp(c) / (np.exp(a) + np.exp(b) + np.exp(c)))"
   ]
  },
  {
   "cell_type": "code",
   "execution_count": 113,
   "metadata": {},
   "outputs": [
    {
     "data": {
      "text/plain": [
       "array([[6.47823853e-03, 9.93147195e-01, 3.74566200e-04]])"
      ]
     },
     "execution_count": 113,
     "metadata": {},
     "output_type": "execute_result"
    }
   ],
   "source": [
    "# 소프트맥스 클래스를 호출\n",
    "from sklearn.utils.extmath import softmax\n",
    "softmax([[a, b, c]])"
   ]
  },
  {
   "cell_type": "code",
   "execution_count": 114,
   "metadata": {},
   "outputs": [
    {
     "data": {
      "text/plain": [
       "array([6.47823853e-03, 9.93147195e-01, 3.74566200e-04])"
      ]
     },
     "execution_count": 114,
     "metadata": {},
     "output_type": "execute_result"
    }
   ],
   "source": [
    "# Softmax classifier에서 해당값을 찾아볼수 있다.\n",
    "softmax_reg.predict_proba(train_x)[0]"
   ]
  },
  {
   "cell_type": "code",
   "execution_count": null,
   "metadata": {},
   "outputs": [],
   "source": []
  }
 ],
 "metadata": {
  "kernelspec": {
   "display_name": "Python 3",
   "language": "python",
   "name": "python3"
  },
  "language_info": {
   "codemirror_mode": {
    "name": "ipython",
    "version": 3
   },
   "file_extension": ".py",
   "mimetype": "text/x-python",
   "name": "python",
   "nbconvert_exporter": "python",
   "pygments_lexer": "ipython3",
   "version": "3.6.7"
  }
 },
 "nbformat": 4,
 "nbformat_minor": 2
}
