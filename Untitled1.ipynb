{
 "cells": [
  {
   "cell_type": "markdown",
   "metadata": {},
   "source": [
    "주사위를 던졋을 때 엔트로피\n",
    "\n",
    "p(x=1),,,p(x=6) = 1/6\n",
    "\n",
    "H(x) = -sigma(p(x)*log_2(x) = -6*(1/6)*log_2(1/6) = 2.58bit\n",
    "\n",
    "P(x=1) = 5/6, P(x=2,3,...6) = 1/30\n",
    "H(x) = -(5/6*log_2(5/6) - 5*(1/30)*log2(1/30) = 0.225it"
   ]
  }
 ],
 "metadata": {
  "kernelspec": {
   "display_name": "Python 3",
   "language": "python",
   "name": "python3"
  },
  "language_info": {
   "codemirror_mode": {
    "name": "ipython",
    "version": 3
   },
   "file_extension": ".py",
   "mimetype": "text/x-python",
   "name": "python",
   "nbconvert_exporter": "python",
   "pygments_lexer": "ipython3",
   "version": "3.6.7"
  }
 },
 "nbformat": 4,
 "nbformat_minor": 2
}
